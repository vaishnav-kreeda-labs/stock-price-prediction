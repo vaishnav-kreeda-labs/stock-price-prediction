{
  "nbformat": 4,
  "nbformat_minor": 0,
  "metadata": {
    "colab": {
      "name": "stock_price_prediction_axis.ipynb",
      "provenance": [],
      "authorship_tag": "ABX9TyMEyqSSXqG+OQWr3ZIGpzvQ"
    },
    "kernelspec": {
      "name": "python3",
      "display_name": "Python 3"
    },
    "language_info": {
      "name": "python"
    }
  },
  "cells": [
    {
      "cell_type": "code",
      "execution_count": null,
      "metadata": {
        "id": "DWyXlWIrnEQs"
      },
      "outputs": [],
      "source": [
        "import numpy as np\n",
        "import pandas as pd\n",
        "import matplotlib.pyplot as plt\n",
        "import seaborn as sns\n",
        "import pandas_datareader as data\n"
      ]
    },
    {
      "cell_type": "code",
      "source": [
        "!pip install --upgrade pandas\n",
        "!pip install --upgrade pandas-datareader\n"
      ],
      "metadata": {
        "colab": {
          "base_uri": "https://localhost:8080/"
        },
        "id": "MHkJofElrQOj",
        "outputId": "ab3e9b69-7cbf-47a3-993b-fcfec01007c1"
      },
      "execution_count": null,
      "outputs": [
        {
          "output_type": "stream",
          "name": "stdout",
          "text": [
            "Requirement already satisfied: pandas in /usr/local/lib/python3.7/dist-packages (1.3.5)\n",
            "Requirement already satisfied: numpy>=1.17.3 in /usr/local/lib/python3.7/dist-packages (from pandas) (1.21.5)\n",
            "Requirement already satisfied: python-dateutil>=2.7.3 in /usr/local/lib/python3.7/dist-packages (from pandas) (2.8.2)\n",
            "Requirement already satisfied: pytz>=2017.3 in /usr/local/lib/python3.7/dist-packages (from pandas) (2018.9)\n",
            "Requirement already satisfied: six>=1.5 in /usr/local/lib/python3.7/dist-packages (from python-dateutil>=2.7.3->pandas) (1.15.0)\n",
            "Requirement already satisfied: pandas-datareader in /usr/local/lib/python3.7/dist-packages (0.10.0)\n",
            "Requirement already satisfied: requests>=2.19.0 in /usr/local/lib/python3.7/dist-packages (from pandas-datareader) (2.23.0)\n",
            "Requirement already satisfied: lxml in /usr/local/lib/python3.7/dist-packages (from pandas-datareader) (4.2.6)\n",
            "Requirement already satisfied: pandas>=0.23 in /usr/local/lib/python3.7/dist-packages (from pandas-datareader) (1.3.5)\n",
            "Requirement already satisfied: pytz>=2017.3 in /usr/local/lib/python3.7/dist-packages (from pandas>=0.23->pandas-datareader) (2018.9)\n",
            "Requirement already satisfied: numpy>=1.17.3 in /usr/local/lib/python3.7/dist-packages (from pandas>=0.23->pandas-datareader) (1.21.5)\n",
            "Requirement already satisfied: python-dateutil>=2.7.3 in /usr/local/lib/python3.7/dist-packages (from pandas>=0.23->pandas-datareader) (2.8.2)\n",
            "Requirement already satisfied: six>=1.5 in /usr/local/lib/python3.7/dist-packages (from python-dateutil>=2.7.3->pandas>=0.23->pandas-datareader) (1.15.0)\n",
            "Requirement already satisfied: chardet<4,>=3.0.2 in /usr/local/lib/python3.7/dist-packages (from requests>=2.19.0->pandas-datareader) (3.0.4)\n",
            "Requirement already satisfied: urllib3!=1.25.0,!=1.25.1,<1.26,>=1.21.1 in /usr/local/lib/python3.7/dist-packages (from requests>=2.19.0->pandas-datareader) (1.24.3)\n",
            "Requirement already satisfied: certifi>=2017.4.17 in /usr/local/lib/python3.7/dist-packages (from requests>=2.19.0->pandas-datareader) (2021.10.8)\n",
            "Requirement already satisfied: idna<3,>=2.5 in /usr/local/lib/python3.7/dist-packages (from requests>=2.19.0->pandas-datareader) (2.10)\n"
          ]
        }
      ]
    },
    {
      "cell_type": "code",
      "source": [
        "start=\"2011-01-01\"\n",
        "end=\"2022-03-19\"\n",
        "df=data.DataReader(\"AXISBANK.NS\",\"yahoo\",start,end)\n",
        "df.head()"
      ],
      "metadata": {
        "colab": {
          "base_uri": "https://localhost:8080/",
          "height": 237
        },
        "id": "v-P0wZxppzQk",
        "outputId": "3298c9b0-49b0-4df2-d450-dc2aaa0bd5ce"
      },
      "execution_count": null,
      "outputs": [
        {
          "output_type": "execute_result",
          "data": {
            "text/plain": [
              "                  High         Low        Open       Close      Volume  \\\n",
              "Date                                                                     \n",
              "2011-01-03  274.399994  268.459991  273.000000  273.529999   5266100.0   \n",
              "2011-01-04  275.320007  268.700012  274.579987  269.589996   6919075.0   \n",
              "2011-01-05  270.200012  260.600006  270.200012  262.179993   8749390.0   \n",
              "2011-01-06  264.420013  260.000000  263.269989  261.170013   3967170.0   \n",
              "2011-01-07  260.070007  252.779999  260.070007  256.130005  12047915.0   \n",
              "\n",
              "             Adj Close  \n",
              "Date                    \n",
              "2011-01-03  252.557571  \n",
              "2011-01-04  248.919693  \n",
              "2011-01-05  242.077805  \n",
              "2011-01-06  241.145279  \n",
              "2011-01-07  236.491684  "
            ],
            "text/html": [
              "\n",
              "  <div id=\"df-6c5929a5-646d-4824-8352-351b0696a282\">\n",
              "    <div class=\"colab-df-container\">\n",
              "      <div>\n",
              "<style scoped>\n",
              "    .dataframe tbody tr th:only-of-type {\n",
              "        vertical-align: middle;\n",
              "    }\n",
              "\n",
              "    .dataframe tbody tr th {\n",
              "        vertical-align: top;\n",
              "    }\n",
              "\n",
              "    .dataframe thead th {\n",
              "        text-align: right;\n",
              "    }\n",
              "</style>\n",
              "<table border=\"1\" class=\"dataframe\">\n",
              "  <thead>\n",
              "    <tr style=\"text-align: right;\">\n",
              "      <th></th>\n",
              "      <th>High</th>\n",
              "      <th>Low</th>\n",
              "      <th>Open</th>\n",
              "      <th>Close</th>\n",
              "      <th>Volume</th>\n",
              "      <th>Adj Close</th>\n",
              "    </tr>\n",
              "    <tr>\n",
              "      <th>Date</th>\n",
              "      <th></th>\n",
              "      <th></th>\n",
              "      <th></th>\n",
              "      <th></th>\n",
              "      <th></th>\n",
              "      <th></th>\n",
              "    </tr>\n",
              "  </thead>\n",
              "  <tbody>\n",
              "    <tr>\n",
              "      <th>2011-01-03</th>\n",
              "      <td>274.399994</td>\n",
              "      <td>268.459991</td>\n",
              "      <td>273.000000</td>\n",
              "      <td>273.529999</td>\n",
              "      <td>5266100.0</td>\n",
              "      <td>252.557571</td>\n",
              "    </tr>\n",
              "    <tr>\n",
              "      <th>2011-01-04</th>\n",
              "      <td>275.320007</td>\n",
              "      <td>268.700012</td>\n",
              "      <td>274.579987</td>\n",
              "      <td>269.589996</td>\n",
              "      <td>6919075.0</td>\n",
              "      <td>248.919693</td>\n",
              "    </tr>\n",
              "    <tr>\n",
              "      <th>2011-01-05</th>\n",
              "      <td>270.200012</td>\n",
              "      <td>260.600006</td>\n",
              "      <td>270.200012</td>\n",
              "      <td>262.179993</td>\n",
              "      <td>8749390.0</td>\n",
              "      <td>242.077805</td>\n",
              "    </tr>\n",
              "    <tr>\n",
              "      <th>2011-01-06</th>\n",
              "      <td>264.420013</td>\n",
              "      <td>260.000000</td>\n",
              "      <td>263.269989</td>\n",
              "      <td>261.170013</td>\n",
              "      <td>3967170.0</td>\n",
              "      <td>241.145279</td>\n",
              "    </tr>\n",
              "    <tr>\n",
              "      <th>2011-01-07</th>\n",
              "      <td>260.070007</td>\n",
              "      <td>252.779999</td>\n",
              "      <td>260.070007</td>\n",
              "      <td>256.130005</td>\n",
              "      <td>12047915.0</td>\n",
              "      <td>236.491684</td>\n",
              "    </tr>\n",
              "  </tbody>\n",
              "</table>\n",
              "</div>\n",
              "      <button class=\"colab-df-convert\" onclick=\"convertToInteractive('df-6c5929a5-646d-4824-8352-351b0696a282')\"\n",
              "              title=\"Convert this dataframe to an interactive table.\"\n",
              "              style=\"display:none;\">\n",
              "        \n",
              "  <svg xmlns=\"http://www.w3.org/2000/svg\" height=\"24px\"viewBox=\"0 0 24 24\"\n",
              "       width=\"24px\">\n",
              "    <path d=\"M0 0h24v24H0V0z\" fill=\"none\"/>\n",
              "    <path d=\"M18.56 5.44l.94 2.06.94-2.06 2.06-.94-2.06-.94-.94-2.06-.94 2.06-2.06.94zm-11 1L8.5 8.5l.94-2.06 2.06-.94-2.06-.94L8.5 2.5l-.94 2.06-2.06.94zm10 10l.94 2.06.94-2.06 2.06-.94-2.06-.94-.94-2.06-.94 2.06-2.06.94z\"/><path d=\"M17.41 7.96l-1.37-1.37c-.4-.4-.92-.59-1.43-.59-.52 0-1.04.2-1.43.59L10.3 9.45l-7.72 7.72c-.78.78-.78 2.05 0 2.83L4 21.41c.39.39.9.59 1.41.59.51 0 1.02-.2 1.41-.59l7.78-7.78 2.81-2.81c.8-.78.8-2.07 0-2.86zM5.41 20L4 18.59l7.72-7.72 1.47 1.35L5.41 20z\"/>\n",
              "  </svg>\n",
              "      </button>\n",
              "      \n",
              "  <style>\n",
              "    .colab-df-container {\n",
              "      display:flex;\n",
              "      flex-wrap:wrap;\n",
              "      gap: 12px;\n",
              "    }\n",
              "\n",
              "    .colab-df-convert {\n",
              "      background-color: #E8F0FE;\n",
              "      border: none;\n",
              "      border-radius: 50%;\n",
              "      cursor: pointer;\n",
              "      display: none;\n",
              "      fill: #1967D2;\n",
              "      height: 32px;\n",
              "      padding: 0 0 0 0;\n",
              "      width: 32px;\n",
              "    }\n",
              "\n",
              "    .colab-df-convert:hover {\n",
              "      background-color: #E2EBFA;\n",
              "      box-shadow: 0px 1px 2px rgba(60, 64, 67, 0.3), 0px 1px 3px 1px rgba(60, 64, 67, 0.15);\n",
              "      fill: #174EA6;\n",
              "    }\n",
              "\n",
              "    [theme=dark] .colab-df-convert {\n",
              "      background-color: #3B4455;\n",
              "      fill: #D2E3FC;\n",
              "    }\n",
              "\n",
              "    [theme=dark] .colab-df-convert:hover {\n",
              "      background-color: #434B5C;\n",
              "      box-shadow: 0px 1px 3px 1px rgba(0, 0, 0, 0.15);\n",
              "      filter: drop-shadow(0px 1px 2px rgba(0, 0, 0, 0.3));\n",
              "      fill: #FFFFFF;\n",
              "    }\n",
              "  </style>\n",
              "\n",
              "      <script>\n",
              "        const buttonEl =\n",
              "          document.querySelector('#df-6c5929a5-646d-4824-8352-351b0696a282 button.colab-df-convert');\n",
              "        buttonEl.style.display =\n",
              "          google.colab.kernel.accessAllowed ? 'block' : 'none';\n",
              "\n",
              "        async function convertToInteractive(key) {\n",
              "          const element = document.querySelector('#df-6c5929a5-646d-4824-8352-351b0696a282');\n",
              "          const dataTable =\n",
              "            await google.colab.kernel.invokeFunction('convertToInteractive',\n",
              "                                                     [key], {});\n",
              "          if (!dataTable) return;\n",
              "\n",
              "          const docLinkHtml = 'Like what you see? Visit the ' +\n",
              "            '<a target=\"_blank\" href=https://colab.research.google.com/notebooks/data_table.ipynb>data table notebook</a>'\n",
              "            + ' to learn more about interactive tables.';\n",
              "          element.innerHTML = '';\n",
              "          dataTable['output_type'] = 'display_data';\n",
              "          await google.colab.output.renderOutput(dataTable, element);\n",
              "          const docLink = document.createElement('div');\n",
              "          docLink.innerHTML = docLinkHtml;\n",
              "          element.appendChild(docLink);\n",
              "        }\n",
              "      </script>\n",
              "    </div>\n",
              "  </div>\n",
              "  "
            ]
          },
          "metadata": {},
          "execution_count": 84
        }
      ]
    },
    {
      "cell_type": "code",
      "source": [
        "df.tail()"
      ],
      "metadata": {
        "colab": {
          "base_uri": "https://localhost:8080/",
          "height": 237
        },
        "id": "f4bdIi9msieo",
        "outputId": "04ad38e3-c508-4268-a20e-4449b179e330"
      },
      "execution_count": null,
      "outputs": [
        {
          "output_type": "execute_result",
          "data": {
            "text/plain": [
              "                  High         Low        Open       Close      Volume  \\\n",
              "Date                                                                     \n",
              "2022-03-14  712.400024  685.000000  694.700012  710.049988  10720884.0   \n",
              "2022-03-15  718.000000  695.000000  713.000000  698.150024  12157425.0   \n",
              "2022-03-16  726.000000  709.099976  711.000000  723.849976  10038170.0   \n",
              "2022-03-17  746.750000  736.450012  737.000000  739.250000  13657428.0   \n",
              "2022-03-17  746.750000  736.450012  737.000000  739.250000  13647901.0   \n",
              "\n",
              "             Adj Close  \n",
              "Date                    \n",
              "2022-03-14  710.049988  \n",
              "2022-03-15  698.150024  \n",
              "2022-03-16  723.849976  \n",
              "2022-03-17  739.250000  \n",
              "2022-03-17  739.250000  "
            ],
            "text/html": [
              "\n",
              "  <div id=\"df-039b93f2-2c0d-48cc-b75c-70278a5c4bfa\">\n",
              "    <div class=\"colab-df-container\">\n",
              "      <div>\n",
              "<style scoped>\n",
              "    .dataframe tbody tr th:only-of-type {\n",
              "        vertical-align: middle;\n",
              "    }\n",
              "\n",
              "    .dataframe tbody tr th {\n",
              "        vertical-align: top;\n",
              "    }\n",
              "\n",
              "    .dataframe thead th {\n",
              "        text-align: right;\n",
              "    }\n",
              "</style>\n",
              "<table border=\"1\" class=\"dataframe\">\n",
              "  <thead>\n",
              "    <tr style=\"text-align: right;\">\n",
              "      <th></th>\n",
              "      <th>High</th>\n",
              "      <th>Low</th>\n",
              "      <th>Open</th>\n",
              "      <th>Close</th>\n",
              "      <th>Volume</th>\n",
              "      <th>Adj Close</th>\n",
              "    </tr>\n",
              "    <tr>\n",
              "      <th>Date</th>\n",
              "      <th></th>\n",
              "      <th></th>\n",
              "      <th></th>\n",
              "      <th></th>\n",
              "      <th></th>\n",
              "      <th></th>\n",
              "    </tr>\n",
              "  </thead>\n",
              "  <tbody>\n",
              "    <tr>\n",
              "      <th>2022-03-14</th>\n",
              "      <td>712.400024</td>\n",
              "      <td>685.000000</td>\n",
              "      <td>694.700012</td>\n",
              "      <td>710.049988</td>\n",
              "      <td>10720884.0</td>\n",
              "      <td>710.049988</td>\n",
              "    </tr>\n",
              "    <tr>\n",
              "      <th>2022-03-15</th>\n",
              "      <td>718.000000</td>\n",
              "      <td>695.000000</td>\n",
              "      <td>713.000000</td>\n",
              "      <td>698.150024</td>\n",
              "      <td>12157425.0</td>\n",
              "      <td>698.150024</td>\n",
              "    </tr>\n",
              "    <tr>\n",
              "      <th>2022-03-16</th>\n",
              "      <td>726.000000</td>\n",
              "      <td>709.099976</td>\n",
              "      <td>711.000000</td>\n",
              "      <td>723.849976</td>\n",
              "      <td>10038170.0</td>\n",
              "      <td>723.849976</td>\n",
              "    </tr>\n",
              "    <tr>\n",
              "      <th>2022-03-17</th>\n",
              "      <td>746.750000</td>\n",
              "      <td>736.450012</td>\n",
              "      <td>737.000000</td>\n",
              "      <td>739.250000</td>\n",
              "      <td>13657428.0</td>\n",
              "      <td>739.250000</td>\n",
              "    </tr>\n",
              "    <tr>\n",
              "      <th>2022-03-17</th>\n",
              "      <td>746.750000</td>\n",
              "      <td>736.450012</td>\n",
              "      <td>737.000000</td>\n",
              "      <td>739.250000</td>\n",
              "      <td>13647901.0</td>\n",
              "      <td>739.250000</td>\n",
              "    </tr>\n",
              "  </tbody>\n",
              "</table>\n",
              "</div>\n",
              "      <button class=\"colab-df-convert\" onclick=\"convertToInteractive('df-039b93f2-2c0d-48cc-b75c-70278a5c4bfa')\"\n",
              "              title=\"Convert this dataframe to an interactive table.\"\n",
              "              style=\"display:none;\">\n",
              "        \n",
              "  <svg xmlns=\"http://www.w3.org/2000/svg\" height=\"24px\"viewBox=\"0 0 24 24\"\n",
              "       width=\"24px\">\n",
              "    <path d=\"M0 0h24v24H0V0z\" fill=\"none\"/>\n",
              "    <path d=\"M18.56 5.44l.94 2.06.94-2.06 2.06-.94-2.06-.94-.94-2.06-.94 2.06-2.06.94zm-11 1L8.5 8.5l.94-2.06 2.06-.94-2.06-.94L8.5 2.5l-.94 2.06-2.06.94zm10 10l.94 2.06.94-2.06 2.06-.94-2.06-.94-.94-2.06-.94 2.06-2.06.94z\"/><path d=\"M17.41 7.96l-1.37-1.37c-.4-.4-.92-.59-1.43-.59-.52 0-1.04.2-1.43.59L10.3 9.45l-7.72 7.72c-.78.78-.78 2.05 0 2.83L4 21.41c.39.39.9.59 1.41.59.51 0 1.02-.2 1.41-.59l7.78-7.78 2.81-2.81c.8-.78.8-2.07 0-2.86zM5.41 20L4 18.59l7.72-7.72 1.47 1.35L5.41 20z\"/>\n",
              "  </svg>\n",
              "      </button>\n",
              "      \n",
              "  <style>\n",
              "    .colab-df-container {\n",
              "      display:flex;\n",
              "      flex-wrap:wrap;\n",
              "      gap: 12px;\n",
              "    }\n",
              "\n",
              "    .colab-df-convert {\n",
              "      background-color: #E8F0FE;\n",
              "      border: none;\n",
              "      border-radius: 50%;\n",
              "      cursor: pointer;\n",
              "      display: none;\n",
              "      fill: #1967D2;\n",
              "      height: 32px;\n",
              "      padding: 0 0 0 0;\n",
              "      width: 32px;\n",
              "    }\n",
              "\n",
              "    .colab-df-convert:hover {\n",
              "      background-color: #E2EBFA;\n",
              "      box-shadow: 0px 1px 2px rgba(60, 64, 67, 0.3), 0px 1px 3px 1px rgba(60, 64, 67, 0.15);\n",
              "      fill: #174EA6;\n",
              "    }\n",
              "\n",
              "    [theme=dark] .colab-df-convert {\n",
              "      background-color: #3B4455;\n",
              "      fill: #D2E3FC;\n",
              "    }\n",
              "\n",
              "    [theme=dark] .colab-df-convert:hover {\n",
              "      background-color: #434B5C;\n",
              "      box-shadow: 0px 1px 3px 1px rgba(0, 0, 0, 0.15);\n",
              "      filter: drop-shadow(0px 1px 2px rgba(0, 0, 0, 0.3));\n",
              "      fill: #FFFFFF;\n",
              "    }\n",
              "  </style>\n",
              "\n",
              "      <script>\n",
              "        const buttonEl =\n",
              "          document.querySelector('#df-039b93f2-2c0d-48cc-b75c-70278a5c4bfa button.colab-df-convert');\n",
              "        buttonEl.style.display =\n",
              "          google.colab.kernel.accessAllowed ? 'block' : 'none';\n",
              "\n",
              "        async function convertToInteractive(key) {\n",
              "          const element = document.querySelector('#df-039b93f2-2c0d-48cc-b75c-70278a5c4bfa');\n",
              "          const dataTable =\n",
              "            await google.colab.kernel.invokeFunction('convertToInteractive',\n",
              "                                                     [key], {});\n",
              "          if (!dataTable) return;\n",
              "\n",
              "          const docLinkHtml = 'Like what you see? Visit the ' +\n",
              "            '<a target=\"_blank\" href=https://colab.research.google.com/notebooks/data_table.ipynb>data table notebook</a>'\n",
              "            + ' to learn more about interactive tables.';\n",
              "          element.innerHTML = '';\n",
              "          dataTable['output_type'] = 'display_data';\n",
              "          await google.colab.output.renderOutput(dataTable, element);\n",
              "          const docLink = document.createElement('div');\n",
              "          docLink.innerHTML = docLinkHtml;\n",
              "          element.appendChild(docLink);\n",
              "        }\n",
              "      </script>\n",
              "    </div>\n",
              "  </div>\n",
              "  "
            ]
          },
          "metadata": {},
          "execution_count": 85
        }
      ]
    },
    {
      "cell_type": "code",
      "source": [
        "df.describe()\n"
      ],
      "metadata": {
        "colab": {
          "base_uri": "https://localhost:8080/",
          "height": 300
        },
        "id": "ptzTYi20rwr6",
        "outputId": "bea1cbba-9efe-4719-9f9d-6262ebf41a17"
      },
      "execution_count": null,
      "outputs": [
        {
          "output_type": "execute_result",
          "data": {
            "text/plain": [
              "              High          Low         Open        Close        Volume  \\\n",
              "count  2764.000000  2764.000000  2764.000000  2764.000000  2.764000e+03   \n",
              "mean    479.458348   465.971439   473.062352   472.616209  1.137107e+07   \n",
              "std     185.873381   181.968059   184.119883   183.935496  9.735981e+06   \n",
              "min     163.000000   152.679993   156.559998   156.570007  0.000000e+00   \n",
              "25%     277.555000   270.479988   274.150009   273.587502  5.959235e+06   \n",
              "50%     502.100006   488.074997   495.550003   494.175003  8.566898e+06   \n",
              "75%     616.862518   597.312500   609.250000   607.550003  1.285518e+07   \n",
              "max     866.900024   825.450012   848.400024   845.099976  1.205419e+08   \n",
              "\n",
              "         Adj Close  \n",
              "count  2764.000000  \n",
              "mean    465.728798  \n",
              "std     188.566073  \n",
              "min     148.441711  \n",
              "25%     259.377632  \n",
              "50%     486.608734  \n",
              "75%     605.872559  \n",
              "max     845.099976  "
            ],
            "text/html": [
              "\n",
              "  <div id=\"df-df12e163-773b-430c-9194-8a753cdd4a34\">\n",
              "    <div class=\"colab-df-container\">\n",
              "      <div>\n",
              "<style scoped>\n",
              "    .dataframe tbody tr th:only-of-type {\n",
              "        vertical-align: middle;\n",
              "    }\n",
              "\n",
              "    .dataframe tbody tr th {\n",
              "        vertical-align: top;\n",
              "    }\n",
              "\n",
              "    .dataframe thead th {\n",
              "        text-align: right;\n",
              "    }\n",
              "</style>\n",
              "<table border=\"1\" class=\"dataframe\">\n",
              "  <thead>\n",
              "    <tr style=\"text-align: right;\">\n",
              "      <th></th>\n",
              "      <th>High</th>\n",
              "      <th>Low</th>\n",
              "      <th>Open</th>\n",
              "      <th>Close</th>\n",
              "      <th>Volume</th>\n",
              "      <th>Adj Close</th>\n",
              "    </tr>\n",
              "  </thead>\n",
              "  <tbody>\n",
              "    <tr>\n",
              "      <th>count</th>\n",
              "      <td>2764.000000</td>\n",
              "      <td>2764.000000</td>\n",
              "      <td>2764.000000</td>\n",
              "      <td>2764.000000</td>\n",
              "      <td>2.764000e+03</td>\n",
              "      <td>2764.000000</td>\n",
              "    </tr>\n",
              "    <tr>\n",
              "      <th>mean</th>\n",
              "      <td>479.458348</td>\n",
              "      <td>465.971439</td>\n",
              "      <td>473.062352</td>\n",
              "      <td>472.616209</td>\n",
              "      <td>1.137107e+07</td>\n",
              "      <td>465.728798</td>\n",
              "    </tr>\n",
              "    <tr>\n",
              "      <th>std</th>\n",
              "      <td>185.873381</td>\n",
              "      <td>181.968059</td>\n",
              "      <td>184.119883</td>\n",
              "      <td>183.935496</td>\n",
              "      <td>9.735981e+06</td>\n",
              "      <td>188.566073</td>\n",
              "    </tr>\n",
              "    <tr>\n",
              "      <th>min</th>\n",
              "      <td>163.000000</td>\n",
              "      <td>152.679993</td>\n",
              "      <td>156.559998</td>\n",
              "      <td>156.570007</td>\n",
              "      <td>0.000000e+00</td>\n",
              "      <td>148.441711</td>\n",
              "    </tr>\n",
              "    <tr>\n",
              "      <th>25%</th>\n",
              "      <td>277.555000</td>\n",
              "      <td>270.479988</td>\n",
              "      <td>274.150009</td>\n",
              "      <td>273.587502</td>\n",
              "      <td>5.959235e+06</td>\n",
              "      <td>259.377632</td>\n",
              "    </tr>\n",
              "    <tr>\n",
              "      <th>50%</th>\n",
              "      <td>502.100006</td>\n",
              "      <td>488.074997</td>\n",
              "      <td>495.550003</td>\n",
              "      <td>494.175003</td>\n",
              "      <td>8.566898e+06</td>\n",
              "      <td>486.608734</td>\n",
              "    </tr>\n",
              "    <tr>\n",
              "      <th>75%</th>\n",
              "      <td>616.862518</td>\n",
              "      <td>597.312500</td>\n",
              "      <td>609.250000</td>\n",
              "      <td>607.550003</td>\n",
              "      <td>1.285518e+07</td>\n",
              "      <td>605.872559</td>\n",
              "    </tr>\n",
              "    <tr>\n",
              "      <th>max</th>\n",
              "      <td>866.900024</td>\n",
              "      <td>825.450012</td>\n",
              "      <td>848.400024</td>\n",
              "      <td>845.099976</td>\n",
              "      <td>1.205419e+08</td>\n",
              "      <td>845.099976</td>\n",
              "    </tr>\n",
              "  </tbody>\n",
              "</table>\n",
              "</div>\n",
              "      <button class=\"colab-df-convert\" onclick=\"convertToInteractive('df-df12e163-773b-430c-9194-8a753cdd4a34')\"\n",
              "              title=\"Convert this dataframe to an interactive table.\"\n",
              "              style=\"display:none;\">\n",
              "        \n",
              "  <svg xmlns=\"http://www.w3.org/2000/svg\" height=\"24px\"viewBox=\"0 0 24 24\"\n",
              "       width=\"24px\">\n",
              "    <path d=\"M0 0h24v24H0V0z\" fill=\"none\"/>\n",
              "    <path d=\"M18.56 5.44l.94 2.06.94-2.06 2.06-.94-2.06-.94-.94-2.06-.94 2.06-2.06.94zm-11 1L8.5 8.5l.94-2.06 2.06-.94-2.06-.94L8.5 2.5l-.94 2.06-2.06.94zm10 10l.94 2.06.94-2.06 2.06-.94-2.06-.94-.94-2.06-.94 2.06-2.06.94z\"/><path d=\"M17.41 7.96l-1.37-1.37c-.4-.4-.92-.59-1.43-.59-.52 0-1.04.2-1.43.59L10.3 9.45l-7.72 7.72c-.78.78-.78 2.05 0 2.83L4 21.41c.39.39.9.59 1.41.59.51 0 1.02-.2 1.41-.59l7.78-7.78 2.81-2.81c.8-.78.8-2.07 0-2.86zM5.41 20L4 18.59l7.72-7.72 1.47 1.35L5.41 20z\"/>\n",
              "  </svg>\n",
              "      </button>\n",
              "      \n",
              "  <style>\n",
              "    .colab-df-container {\n",
              "      display:flex;\n",
              "      flex-wrap:wrap;\n",
              "      gap: 12px;\n",
              "    }\n",
              "\n",
              "    .colab-df-convert {\n",
              "      background-color: #E8F0FE;\n",
              "      border: none;\n",
              "      border-radius: 50%;\n",
              "      cursor: pointer;\n",
              "      display: none;\n",
              "      fill: #1967D2;\n",
              "      height: 32px;\n",
              "      padding: 0 0 0 0;\n",
              "      width: 32px;\n",
              "    }\n",
              "\n",
              "    .colab-df-convert:hover {\n",
              "      background-color: #E2EBFA;\n",
              "      box-shadow: 0px 1px 2px rgba(60, 64, 67, 0.3), 0px 1px 3px 1px rgba(60, 64, 67, 0.15);\n",
              "      fill: #174EA6;\n",
              "    }\n",
              "\n",
              "    [theme=dark] .colab-df-convert {\n",
              "      background-color: #3B4455;\n",
              "      fill: #D2E3FC;\n",
              "    }\n",
              "\n",
              "    [theme=dark] .colab-df-convert:hover {\n",
              "      background-color: #434B5C;\n",
              "      box-shadow: 0px 1px 3px 1px rgba(0, 0, 0, 0.15);\n",
              "      filter: drop-shadow(0px 1px 2px rgba(0, 0, 0, 0.3));\n",
              "      fill: #FFFFFF;\n",
              "    }\n",
              "  </style>\n",
              "\n",
              "      <script>\n",
              "        const buttonEl =\n",
              "          document.querySelector('#df-df12e163-773b-430c-9194-8a753cdd4a34 button.colab-df-convert');\n",
              "        buttonEl.style.display =\n",
              "          google.colab.kernel.accessAllowed ? 'block' : 'none';\n",
              "\n",
              "        async function convertToInteractive(key) {\n",
              "          const element = document.querySelector('#df-df12e163-773b-430c-9194-8a753cdd4a34');\n",
              "          const dataTable =\n",
              "            await google.colab.kernel.invokeFunction('convertToInteractive',\n",
              "                                                     [key], {});\n",
              "          if (!dataTable) return;\n",
              "\n",
              "          const docLinkHtml = 'Like what you see? Visit the ' +\n",
              "            '<a target=\"_blank\" href=https://colab.research.google.com/notebooks/data_table.ipynb>data table notebook</a>'\n",
              "            + ' to learn more about interactive tables.';\n",
              "          element.innerHTML = '';\n",
              "          dataTable['output_type'] = 'display_data';\n",
              "          await google.colab.output.renderOutput(dataTable, element);\n",
              "          const docLink = document.createElement('div');\n",
              "          docLink.innerHTML = docLinkHtml;\n",
              "          element.appendChild(docLink);\n",
              "        }\n",
              "      </script>\n",
              "    </div>\n",
              "  </div>\n",
              "  "
            ]
          },
          "metadata": {},
          "execution_count": 86
        }
      ]
    },
    {
      "cell_type": "code",
      "source": [
        "df=df.reset_index()\n",
        "df=df.drop([\"Date\",\"Adj Close\"],axis=1)"
      ],
      "metadata": {
        "id": "eUG9A9h9r59b"
      },
      "execution_count": null,
      "outputs": []
    },
    {
      "cell_type": "code",
      "source": [
        "df.head()"
      ],
      "metadata": {
        "colab": {
          "base_uri": "https://localhost:8080/",
          "height": 206
        },
        "id": "oLz4tdx9tgZ7",
        "outputId": "3c00f985-ff5d-47c4-af17-923efedaedf1"
      },
      "execution_count": null,
      "outputs": [
        {
          "output_type": "execute_result",
          "data": {
            "text/plain": [
              "         High         Low        Open       Close      Volume\n",
              "0  274.399994  268.459991  273.000000  273.529999   5266100.0\n",
              "1  275.320007  268.700012  274.579987  269.589996   6919075.0\n",
              "2  270.200012  260.600006  270.200012  262.179993   8749390.0\n",
              "3  264.420013  260.000000  263.269989  261.170013   3967170.0\n",
              "4  260.070007  252.779999  260.070007  256.130005  12047915.0"
            ],
            "text/html": [
              "\n",
              "  <div id=\"df-ef38286c-5755-4d14-b2e7-479824376983\">\n",
              "    <div class=\"colab-df-container\">\n",
              "      <div>\n",
              "<style scoped>\n",
              "    .dataframe tbody tr th:only-of-type {\n",
              "        vertical-align: middle;\n",
              "    }\n",
              "\n",
              "    .dataframe tbody tr th {\n",
              "        vertical-align: top;\n",
              "    }\n",
              "\n",
              "    .dataframe thead th {\n",
              "        text-align: right;\n",
              "    }\n",
              "</style>\n",
              "<table border=\"1\" class=\"dataframe\">\n",
              "  <thead>\n",
              "    <tr style=\"text-align: right;\">\n",
              "      <th></th>\n",
              "      <th>High</th>\n",
              "      <th>Low</th>\n",
              "      <th>Open</th>\n",
              "      <th>Close</th>\n",
              "      <th>Volume</th>\n",
              "    </tr>\n",
              "  </thead>\n",
              "  <tbody>\n",
              "    <tr>\n",
              "      <th>0</th>\n",
              "      <td>274.399994</td>\n",
              "      <td>268.459991</td>\n",
              "      <td>273.000000</td>\n",
              "      <td>273.529999</td>\n",
              "      <td>5266100.0</td>\n",
              "    </tr>\n",
              "    <tr>\n",
              "      <th>1</th>\n",
              "      <td>275.320007</td>\n",
              "      <td>268.700012</td>\n",
              "      <td>274.579987</td>\n",
              "      <td>269.589996</td>\n",
              "      <td>6919075.0</td>\n",
              "    </tr>\n",
              "    <tr>\n",
              "      <th>2</th>\n",
              "      <td>270.200012</td>\n",
              "      <td>260.600006</td>\n",
              "      <td>270.200012</td>\n",
              "      <td>262.179993</td>\n",
              "      <td>8749390.0</td>\n",
              "    </tr>\n",
              "    <tr>\n",
              "      <th>3</th>\n",
              "      <td>264.420013</td>\n",
              "      <td>260.000000</td>\n",
              "      <td>263.269989</td>\n",
              "      <td>261.170013</td>\n",
              "      <td>3967170.0</td>\n",
              "    </tr>\n",
              "    <tr>\n",
              "      <th>4</th>\n",
              "      <td>260.070007</td>\n",
              "      <td>252.779999</td>\n",
              "      <td>260.070007</td>\n",
              "      <td>256.130005</td>\n",
              "      <td>12047915.0</td>\n",
              "    </tr>\n",
              "  </tbody>\n",
              "</table>\n",
              "</div>\n",
              "      <button class=\"colab-df-convert\" onclick=\"convertToInteractive('df-ef38286c-5755-4d14-b2e7-479824376983')\"\n",
              "              title=\"Convert this dataframe to an interactive table.\"\n",
              "              style=\"display:none;\">\n",
              "        \n",
              "  <svg xmlns=\"http://www.w3.org/2000/svg\" height=\"24px\"viewBox=\"0 0 24 24\"\n",
              "       width=\"24px\">\n",
              "    <path d=\"M0 0h24v24H0V0z\" fill=\"none\"/>\n",
              "    <path d=\"M18.56 5.44l.94 2.06.94-2.06 2.06-.94-2.06-.94-.94-2.06-.94 2.06-2.06.94zm-11 1L8.5 8.5l.94-2.06 2.06-.94-2.06-.94L8.5 2.5l-.94 2.06-2.06.94zm10 10l.94 2.06.94-2.06 2.06-.94-2.06-.94-.94-2.06-.94 2.06-2.06.94z\"/><path d=\"M17.41 7.96l-1.37-1.37c-.4-.4-.92-.59-1.43-.59-.52 0-1.04.2-1.43.59L10.3 9.45l-7.72 7.72c-.78.78-.78 2.05 0 2.83L4 21.41c.39.39.9.59 1.41.59.51 0 1.02-.2 1.41-.59l7.78-7.78 2.81-2.81c.8-.78.8-2.07 0-2.86zM5.41 20L4 18.59l7.72-7.72 1.47 1.35L5.41 20z\"/>\n",
              "  </svg>\n",
              "      </button>\n",
              "      \n",
              "  <style>\n",
              "    .colab-df-container {\n",
              "      display:flex;\n",
              "      flex-wrap:wrap;\n",
              "      gap: 12px;\n",
              "    }\n",
              "\n",
              "    .colab-df-convert {\n",
              "      background-color: #E8F0FE;\n",
              "      border: none;\n",
              "      border-radius: 50%;\n",
              "      cursor: pointer;\n",
              "      display: none;\n",
              "      fill: #1967D2;\n",
              "      height: 32px;\n",
              "      padding: 0 0 0 0;\n",
              "      width: 32px;\n",
              "    }\n",
              "\n",
              "    .colab-df-convert:hover {\n",
              "      background-color: #E2EBFA;\n",
              "      box-shadow: 0px 1px 2px rgba(60, 64, 67, 0.3), 0px 1px 3px 1px rgba(60, 64, 67, 0.15);\n",
              "      fill: #174EA6;\n",
              "    }\n",
              "\n",
              "    [theme=dark] .colab-df-convert {\n",
              "      background-color: #3B4455;\n",
              "      fill: #D2E3FC;\n",
              "    }\n",
              "\n",
              "    [theme=dark] .colab-df-convert:hover {\n",
              "      background-color: #434B5C;\n",
              "      box-shadow: 0px 1px 3px 1px rgba(0, 0, 0, 0.15);\n",
              "      filter: drop-shadow(0px 1px 2px rgba(0, 0, 0, 0.3));\n",
              "      fill: #FFFFFF;\n",
              "    }\n",
              "  </style>\n",
              "\n",
              "      <script>\n",
              "        const buttonEl =\n",
              "          document.querySelector('#df-ef38286c-5755-4d14-b2e7-479824376983 button.colab-df-convert');\n",
              "        buttonEl.style.display =\n",
              "          google.colab.kernel.accessAllowed ? 'block' : 'none';\n",
              "\n",
              "        async function convertToInteractive(key) {\n",
              "          const element = document.querySelector('#df-ef38286c-5755-4d14-b2e7-479824376983');\n",
              "          const dataTable =\n",
              "            await google.colab.kernel.invokeFunction('convertToInteractive',\n",
              "                                                     [key], {});\n",
              "          if (!dataTable) return;\n",
              "\n",
              "          const docLinkHtml = 'Like what you see? Visit the ' +\n",
              "            '<a target=\"_blank\" href=https://colab.research.google.com/notebooks/data_table.ipynb>data table notebook</a>'\n",
              "            + ' to learn more about interactive tables.';\n",
              "          element.innerHTML = '';\n",
              "          dataTable['output_type'] = 'display_data';\n",
              "          await google.colab.output.renderOutput(dataTable, element);\n",
              "          const docLink = document.createElement('div');\n",
              "          docLink.innerHTML = docLinkHtml;\n",
              "          element.appendChild(docLink);\n",
              "        }\n",
              "      </script>\n",
              "    </div>\n",
              "  </div>\n",
              "  "
            ]
          },
          "metadata": {},
          "execution_count": 88
        }
      ]
    },
    {
      "cell_type": "code",
      "source": [
        "plt.plot(df.Close)"
      ],
      "metadata": {
        "colab": {
          "base_uri": "https://localhost:8080/",
          "height": 283
        },
        "id": "gPz8KK-Gtj6x",
        "outputId": "4d995017-d6e8-4698-f45d-08df055e0992"
      },
      "execution_count": null,
      "outputs": [
        {
          "output_type": "execute_result",
          "data": {
            "text/plain": [
              "[<matplotlib.lines.Line2D at 0x7ff856a5b350>]"
            ]
          },
          "metadata": {},
          "execution_count": 89
        },
        {
          "output_type": "display_data",
          "data": {
            "text/plain": [
              "<Figure size 432x288 with 1 Axes>"
            ],
            "image/png": "[encoded data removed]"
          },
          "metadata": {
            "needs_background": "light"
          }
        }
      ]
    },
    {
      "cell_type": "code",
      "source": [
        "avg100=df.Close.rolling(100).mean()\n",
        "avg200=df.Close.rolling(200).mean()\n",
        "plt.figure(figsize=(12,6))\n",
        "plt.plot(df.Close)\n",
        "plt.plot(avg100,\"r\")\n",
        "plt.plot(avg200,\"o\")"
      ],
      "metadata": {
        "colab": {
          "base_uri": "https://localhost:8080/",
          "height": 392
        },
        "id": "La0XiPmxt4Cm",
        "outputId": "8bbad030-e780-46de-d3fc-bf1034d42886"
      },
      "execution_count": null,
      "outputs": [
        {
          "output_type": "execute_result",
          "data": {
            "text/plain": [
              "[<matplotlib.lines.Line2D at 0x7ff856abbc90>]"
            ]
          },
          "metadata": {},
          "execution_count": 90
        },
        {
          "output_type": "display_data",
          "data": {
            "text/plain": [
              "<Figure size 864x432 with 1 Axes>"
            ],
            "image/png": "[encoded data removed]"
          },
          "metadata": {
            "needs_background": "light"
          }
        }
      ]
    },
    {
      "cell_type": "code",
      "source": [
        "df.shape"
      ],
      "metadata": {
        "colab": {
          "base_uri": "https://localhost:8080/"
        },
        "id": "GCuMFQSYwyQ_",
        "outputId": "e66ef2a7-a97f-45d6-f1ec-374f5c66b042"
      },
      "execution_count": null,
      "outputs": [
        {
          "output_type": "execute_result",
          "data": {
            "text/plain": [
              "(2764, 5)"
            ]
          },
          "metadata": {},
          "execution_count": 91
        }
      ]
    },
    {
      "cell_type": "code",
      "source": [
        "training_data=pd.DataFrame(df[\"Close\"][0:int(len(df)*0.70)])\n",
        "testing_data=pd.DataFrame(df[\"Close\"][int(len(df)*0.70):])\n",
        "testing_data.shape\n",
        "training_data.shape"
      ],
      "metadata": {
        "colab": {
          "base_uri": "https://localhost:8080/"
        },
        "id": "1YhPKzB2u26n",
        "outputId": "3b0b7b89-4bc2-4bb2-9220-ecf2682602ef"
      },
      "execution_count": null,
      "outputs": [
        {
          "output_type": "execute_result",
          "data": {
            "text/plain": [
              "(1934, 1)"
            ]
          },
          "metadata": {},
          "execution_count": 92
        }
      ]
    },
    {
      "cell_type": "code",
      "source": [
        "from sklearn.preprocessing import MinMaxScaler\n",
        "minmax=MinMaxScaler(feature_range=(0,1))"
      ],
      "metadata": {
        "id": "8wKPmX7yw__F"
      },
      "execution_count": null,
      "outputs": []
    },
    {
      "cell_type": "code",
      "source": [
        "training_data_arr=minmax.fit_transform(training_data)\n",
        "training_data_arr"
      ],
      "metadata": {
        "colab": {
          "base_uri": "https://localhost:8080/"
        },
        "id": "rRqNpHaSx5jB",
        "outputId": "cd0c9544-3a4c-44b9-b7f3-80ea2ebd0594"
      },
      "execution_count": null,
      "outputs": [
        {
          "output_type": "execute_result",
          "data": {
            "text/plain": [
              "array([[0.23230316],\n",
              "       [0.22447762],\n",
              "       [0.20976005],\n",
              "       ...,\n",
              "       [0.92919289],\n",
              "       [0.89552718],\n",
              "       [0.8943354 ]])"
            ]
          },
          "metadata": {},
          "execution_count": 94
        }
      ]
    },
    {
      "cell_type": "code",
      "source": [
        "x_train=[]\n",
        "y_train=[]\n",
        "\n",
        "for i in range(100,training_data_arr.shape[0]):\n",
        "  x_train.append(training_data_arr[i-100:i])\n",
        "  y_train.append(training_data_arr[i,0])\n",
        "# x_train\n",
        "\n",
        "x_train,y_train = np.array(x_train),np.array(y_train)\n"
      ],
      "metadata": {
        "id": "Py-2hUodzsVk"
      },
      "execution_count": null,
      "outputs": []
    },
    {
      "cell_type": "code",
      "source": [
        "from keras.layers import Dense, Dropout, LSTM\n",
        "from keras.models import Sequential"
      ],
      "metadata": {
        "id": "Qx_2AMml0_gJ"
      },
      "execution_count": null,
      "outputs": []
    },
    {
      "cell_type": "code",
      "source": [
        "model = Sequential()\n",
        "model.add(LSTM(units = 50, activation=\"relu\",return_sequences=True,input_shape = (x_train.shape[1],1)))\n",
        "model.add(Dropout(0.2))\n",
        "\n",
        "model.add(LSTM(units = 60, activation=\"relu\",return_sequences=True))\n",
        "model.add(Dropout(0.3))\n",
        "\n",
        "model.add(LSTM(units = 80, activation=\"relu\",return_sequences=True))\n",
        "model.add(Dropout(0.4))\n",
        "\n",
        "model.add(LSTM(units = 120, activation=\"relu\"))\n",
        "model.add(Dropout(0.5))\n",
        "\n",
        "model.add(Dense(units=1))"
      ],
      "metadata": {
        "id": "ZACm3fCb3YK4"
      },
      "execution_count": null,
      "outputs": []
    },
    {
      "cell_type": "code",
      "source": [
        "model.compile(optimizer=\"adam\",loss=\"mean_squared_error\")\n",
        "model.fit(x_train,y_train,epochs=50)"
      ],
      "metadata": {
        "colab": {
          "base_uri": "https://localhost:8080/"
        },
        "id": "fGa6S-Yh5viT",
        "outputId": "0ae6f4ad-e6ac-4286-a3a7-71a3c90d4c6d"
      },
      "execution_count": null,
      "outputs": [
        {
          "output_type": "stream",
          "name": "stdout",
          "text": [
            "Epoch 1/50\n",
            "58/58 [==============================] - 28s 249ms/step - loss: 0.0569\n",
            "Epoch 2/50\n",
            "58/58 [==============================] - 15s 251ms/step - loss: 0.0149\n",
            "Epoch 3/50\n",
            "58/58 [==============================] - 15s 263ms/step - loss: 0.0106\n",
            "Epoch 4/50\n",
            "58/58 [==============================] - 20s 338ms/step - loss: 0.0111\n",
            "Epoch 5/50\n",
            "58/58 [==============================] - 15s 253ms/step - loss: 0.0095\n",
            "Epoch 6/50\n",
            "58/58 [==============================] - 18s 312ms/step - loss: 0.0092\n",
            "Epoch 7/50\n",
            "58/58 [==============================] - 14s 249ms/step - loss: 0.0082\n",
            "Epoch 8/50\n",
            "58/58 [==============================] - 15s 250ms/step - loss: 0.0079\n",
            "Epoch 9/50\n",
            "58/58 [==============================] - 14s 249ms/step - loss: 0.0084\n",
            "Epoch 10/50\n",
            "58/58 [==============================] - 14s 249ms/step - loss: 0.0079\n",
            "Epoch 11/50\n",
            "58/58 [==============================] - 15s 259ms/step - loss: 0.0067\n",
            "Epoch 12/50\n",
            "58/58 [==============================] - 15s 250ms/step - loss: 0.0078\n",
            "Epoch 13/50\n",
            "58/58 [==============================] - 14s 249ms/step - loss: 0.0069\n",
            "Epoch 14/50\n",
            "58/58 [==============================] - 14s 250ms/step - loss: 0.0062\n",
            "Epoch 15/50\n",
            "58/58 [==============================] - 15s 250ms/step - loss: 0.0066\n",
            "Epoch 16/50\n",
            "58/58 [==============================] - 15s 261ms/step - loss: 0.0060\n",
            "Epoch 17/50\n",
            "58/58 [==============================] - 14s 249ms/step - loss: 0.0062\n",
            "Epoch 18/50\n",
            "58/58 [==============================] - 15s 250ms/step - loss: 0.0059\n",
            "Epoch 19/50\n",
            "58/58 [==============================] - 14s 248ms/step - loss: 0.0056\n",
            "Epoch 20/50\n",
            "58/58 [==============================] - 15s 251ms/step - loss: 0.0055\n",
            "Epoch 21/50\n",
            "58/58 [==============================] - 15s 250ms/step - loss: 0.0053\n",
            "Epoch 22/50\n",
            "58/58 [==============================] - 14s 249ms/step - loss: 0.0051\n",
            "Epoch 23/50\n",
            "58/58 [==============================] - 14s 247ms/step - loss: 0.0054\n",
            "Epoch 24/50\n",
            "58/58 [==============================] - 14s 248ms/step - loss: 0.0047\n",
            "Epoch 25/50\n",
            "58/58 [==============================] - 14s 249ms/step - loss: 0.0048\n",
            "Epoch 26/50\n",
            "58/58 [==============================] - 14s 248ms/step - loss: 0.0051\n",
            "Epoch 27/50\n",
            "58/58 [==============================] - 15s 251ms/step - loss: 0.0047\n",
            "Epoch 28/50\n",
            "58/58 [==============================] - 14s 250ms/step - loss: 0.0047\n",
            "Epoch 29/50\n",
            "58/58 [==============================] - 15s 253ms/step - loss: 0.0046\n",
            "Epoch 30/50\n",
            "58/58 [==============================] - 15s 251ms/step - loss: 0.0045\n",
            "Epoch 31/50\n",
            "58/58 [==============================] - 14s 250ms/step - loss: 0.0043\n",
            "Epoch 32/50\n",
            "58/58 [==============================] - 15s 250ms/step - loss: 0.0045\n",
            "Epoch 33/50\n",
            "58/58 [==============================] - 14s 249ms/step - loss: 0.0042\n",
            "Epoch 34/50\n",
            "58/58 [==============================] - 14s 249ms/step - loss: 0.0043\n",
            "Epoch 35/50\n",
            "58/58 [==============================] - 14s 249ms/step - loss: 0.0040\n",
            "Epoch 36/50\n",
            "58/58 [==============================] - 15s 251ms/step - loss: 0.0044\n",
            "Epoch 37/50\n",
            "58/58 [==============================] - 14s 249ms/step - loss: 0.0039\n",
            "Epoch 38/50\n",
            "58/58 [==============================] - 14s 249ms/step - loss: 0.0039\n",
            "Epoch 39/50\n",
            "58/58 [==============================] - 15s 250ms/step - loss: 0.0039\n",
            "Epoch 40/50\n",
            "58/58 [==============================] - 14s 249ms/step - loss: 0.0038\n",
            "Epoch 41/50\n",
            "58/58 [==============================] - 15s 251ms/step - loss: 0.0039\n",
            "Epoch 42/50\n",
            "58/58 [==============================] - 15s 251ms/step - loss: 0.0041\n",
            "Epoch 43/50\n",
            "58/58 [==============================] - 15s 251ms/step - loss: 0.0036\n",
            "Epoch 44/50\n",
            "58/58 [==============================] - 15s 250ms/step - loss: 0.0035\n",
            "Epoch 45/50\n",
            "58/58 [==============================] - 15s 252ms/step - loss: 0.0037\n",
            "Epoch 46/50\n",
            "58/58 [==============================] - 14s 247ms/step - loss: 0.0034\n",
            "Epoch 47/50\n",
            "58/58 [==============================] - 14s 247ms/step - loss: 0.0034\n",
            "Epoch 48/50\n",
            "58/58 [==============================] - 14s 247ms/step - loss: 0.0035\n",
            "Epoch 49/50\n",
            "58/58 [==============================] - 15s 250ms/step - loss: 0.0033\n",
            "Epoch 50/50\n",
            "58/58 [==============================] - 14s 249ms/step - loss: 0.0033\n"
          ]
        },
        {
          "output_type": "execute_result",
          "data": {
            "text/plain": [
              "<keras.callbacks.History at 0x7ff856cc0c10>"
            ]
          },
          "metadata": {},
          "execution_count": 100
        }
      ]
    },
    {
      "cell_type": "code",
      "source": [
        "# model.save(\"model.h5\",/content/gdrive/My Drive/)\n",
        "from google.colab import drive\n",
        "drive.mount(\"/content/gdrive\")"
      ],
      "metadata": {
        "colab": {
          "base_uri": "https://localhost:8080/"
        },
        "id": "RR-3l0Ea53o3",
        "outputId": "9ab695f5-6be2-4a99-df37-b3e88d74ff43"
      },
      "execution_count": null,
      "outputs": [
        {
          "output_type": "stream",
          "name": "stdout",
          "text": [
            "Drive already mounted at /content/gdrive; to attempt to forcibly remount, call drive.mount(\"/content/gdrive\", force_remount=True).\n"
          ]
        }
      ]
    },
    {
      "cell_type": "code",
      "source": [
        "# import torch\n",
        "!pip install pyyaml h5p\n",
        "model_save_name = 'model_lstm.h5'\n",
        "path = F\"/content/gdrive/My Drive/{model_save_name}\" \n",
        "model.save(path)"
      ],
      "metadata": {
        "colab": {
          "base_uri": "https://localhost:8080/"
        },
        "id": "-oozQfq7788Y",
        "outputId": "a2eba83a-8325-4e27-c0ea-9e90faf03d58"
      },
      "execution_count": null,
      "outputs": [
        {
          "output_type": "stream",
          "name": "stdout",
          "text": [
            "Requirement already satisfied: pyyaml in /usr/local/lib/python3.7/dist-packages (3.13)\n",
            "\u001b[31mERROR: Could not find a version that satisfies the requirement h5p (from versions: none)\u001b[0m\n",
            "\u001b[31mERROR: No matching distribution found for h5p\u001b[0m\n"
          ]
        }
      ]
    },
    {
      "cell_type": "code",
      "source": [
        "past_100=training_data.tail(100)\n",
        "final_df=past_100.append(testing_data,ignore_index=True)"
      ],
      "metadata": {
        "id": "lh_zB__q-N01"
      },
      "execution_count": null,
      "outputs": []
    },
    {
      "cell_type": "code",
      "source": [
        "final_df.head()"
      ],
      "metadata": {
        "colab": {
          "base_uri": "https://localhost:8080/",
          "height": 206
        },
        "id": "Xm7__-vIDFxw",
        "outputId": "3ee88b32-a917-4ac7-c5b8-1e19919aa549"
      },
      "execution_count": null,
      "outputs": [
        {
          "output_type": "execute_result",
          "data": {
            "text/plain": [
              "        Close\n",
              "0  540.650024\n",
              "1  532.000000\n",
              "2  528.750000\n",
              "3  522.549988\n",
              "4  517.200012"
            ],
            "text/html": [
              "\n",
              "  <div id=\"df-8d99ef29-de19-4a87-8dfe-b753bf7fd39f\">\n",
              "    <div class=\"colab-df-container\">\n",
              "      <div>\n",
              "<style scoped>\n",
              "    .dataframe tbody tr th:only-of-type {\n",
              "        vertical-align: middle;\n",
              "    }\n",
              "\n",
              "    .dataframe tbody tr th {\n",
              "        vertical-align: top;\n",
              "    }\n",
              "\n",
              "    .dataframe thead th {\n",
              "        text-align: right;\n",
              "    }\n",
              "</style>\n",
              "<table border=\"1\" class=\"dataframe\">\n",
              "  <thead>\n",
              "    <tr style=\"text-align: right;\">\n",
              "      <th></th>\n",
              "      <th>Close</th>\n",
              "    </tr>\n",
              "  </thead>\n",
              "  <tbody>\n",
              "    <tr>\n",
              "      <th>0</th>\n",
              "      <td>540.650024</td>\n",
              "    </tr>\n",
              "    <tr>\n",
              "      <th>1</th>\n",
              "      <td>532.000000</td>\n",
              "    </tr>\n",
              "    <tr>\n",
              "      <th>2</th>\n",
              "      <td>528.750000</td>\n",
              "    </tr>\n",
              "    <tr>\n",
              "      <th>3</th>\n",
              "      <td>522.549988</td>\n",
              "    </tr>\n",
              "    <tr>\n",
              "      <th>4</th>\n",
              "      <td>517.200012</td>\n",
              "    </tr>\n",
              "  </tbody>\n",
              "</table>\n",
              "</div>\n",
              "      <button class=\"colab-df-convert\" onclick=\"convertToInteractive('df-8d99ef29-de19-4a87-8dfe-b753bf7fd39f')\"\n",
              "              title=\"Convert this dataframe to an interactive table.\"\n",
              "              style=\"display:none;\">\n",
              "        \n",
              "  <svg xmlns=\"http://www.w3.org/2000/svg\" height=\"24px\"viewBox=\"0 0 24 24\"\n",
              "       width=\"24px\">\n",
              "    <path d=\"M0 0h24v24H0V0z\" fill=\"none\"/>\n",
              "    <path d=\"M18.56 5.44l.94 2.06.94-2.06 2.06-.94-2.06-.94-.94-2.06-.94 2.06-2.06.94zm-11 1L8.5 8.5l.94-2.06 2.06-.94-2.06-.94L8.5 2.5l-.94 2.06-2.06.94zm10 10l.94 2.06.94-2.06 2.06-.94-2.06-.94-.94-2.06-.94 2.06-2.06.94z\"/><path d=\"M17.41 7.96l-1.37-1.37c-.4-.4-.92-.59-1.43-.59-.52 0-1.04.2-1.43.59L10.3 9.45l-7.72 7.72c-.78.78-.78 2.05 0 2.83L4 21.41c.39.39.9.59 1.41.59.51 0 1.02-.2 1.41-.59l7.78-7.78 2.81-2.81c.8-.78.8-2.07 0-2.86zM5.41 20L4 18.59l7.72-7.72 1.47 1.35L5.41 20z\"/>\n",
              "  </svg>\n",
              "      </button>\n",
              "      \n",
              "  <style>\n",
              "    .colab-df-container {\n",
              "      display:flex;\n",
              "      flex-wrap:wrap;\n",
              "      gap: 12px;\n",
              "    }\n",
              "\n",
              "    .colab-df-convert {\n",
              "      background-color: #E8F0FE;\n",
              "      border: none;\n",
              "      border-radius: 50%;\n",
              "      cursor: pointer;\n",
              "      display: none;\n",
              "      fill: #1967D2;\n",
              "      height: 32px;\n",
              "      padding: 0 0 0 0;\n",
              "      width: 32px;\n",
              "    }\n",
              "\n",
              "    .colab-df-convert:hover {\n",
              "      background-color: #E2EBFA;\n",
              "      box-shadow: 0px 1px 2px rgba(60, 64, 67, 0.3), 0px 1px 3px 1px rgba(60, 64, 67, 0.15);\n",
              "      fill: #174EA6;\n",
              "    }\n",
              "\n",
              "    [theme=dark] .colab-df-convert {\n",
              "      background-color: #3B4455;\n",
              "      fill: #D2E3FC;\n",
              "    }\n",
              "\n",
              "    [theme=dark] .colab-df-convert:hover {\n",
              "      background-color: #434B5C;\n",
              "      box-shadow: 0px 1px 3px 1px rgba(0, 0, 0, 0.15);\n",
              "      filter: drop-shadow(0px 1px 2px rgba(0, 0, 0, 0.3));\n",
              "      fill: #FFFFFF;\n",
              "    }\n",
              "  </style>\n",
              "\n",
              "      <script>\n",
              "        const buttonEl =\n",
              "          document.querySelector('#df-8d99ef29-de19-4a87-8dfe-b753bf7fd39f button.colab-df-convert');\n",
              "        buttonEl.style.display =\n",
              "          google.colab.kernel.accessAllowed ? 'block' : 'none';\n",
              "\n",
              "        async function convertToInteractive(key) {\n",
              "          const element = document.querySelector('#df-8d99ef29-de19-4a87-8dfe-b753bf7fd39f');\n",
              "          const dataTable =\n",
              "            await google.colab.kernel.invokeFunction('convertToInteractive',\n",
              "                                                     [key], {});\n",
              "          if (!dataTable) return;\n",
              "\n",
              "          const docLinkHtml = 'Like what you see? Visit the ' +\n",
              "            '<a target=\"_blank\" href=https://colab.research.google.com/notebooks/data_table.ipynb>data table notebook</a>'\n",
              "            + ' to learn more about interactive tables.';\n",
              "          element.innerHTML = '';\n",
              "          dataTable['output_type'] = 'display_data';\n",
              "          await google.colab.output.renderOutput(dataTable, element);\n",
              "          const docLink = document.createElement('div');\n",
              "          docLink.innerHTML = docLinkHtml;\n",
              "          element.appendChild(docLink);\n",
              "        }\n",
              "      </script>\n",
              "    </div>\n",
              "  </div>\n",
              "  "
            ]
          },
          "metadata": {},
          "execution_count": 119
        }
      ]
    },
    {
      "cell_type": "code",
      "source": [
        "ip_data=minmax.fit_transform(final_df)\n",
        "ip_data.shape"
      ],
      "metadata": {
        "colab": {
          "base_uri": "https://localhost:8080/"
        },
        "id": "Xi-olrLmDQ95",
        "outputId": "e6cd1f61-c96d-4c78-ee04-ffb230cd2d1d"
      },
      "execution_count": null,
      "outputs": [
        {
          "output_type": "execute_result",
          "data": {
            "text/plain": [
              "(930, 1)"
            ]
          },
          "metadata": {},
          "execution_count": 120
        }
      ]
    },
    {
      "cell_type": "code",
      "source": [
        "x_test=[]\n",
        "y_test=[]\n",
        "for i in range(100,ip_data.shape[0]):\n",
        "  x_test.append(ip_data[i-100:i])\n",
        "  y_test.append(ip_data[i,0])"
      ],
      "metadata": {
        "id": "bDPI1dghDcql"
      },
      "execution_count": null,
      "outputs": []
    },
    {
      "cell_type": "code",
      "source": [
        "x_test,y_test = np.array(x_test),np.array(y_test)\n",
        "# X_test = np.reshape(x_test,(x_test.shape[0],x_test.shape[1],1))\n",
        "x_test.shape\n",
        "# y_test.shape"
      ],
      "metadata": {
        "colab": {
          "base_uri": "https://localhost:8080/"
        },
        "id": "o9W8hdKSD3gp",
        "outputId": "e4f76c13-c52e-4824-8faf-f7f994b1d3e8"
      },
      "execution_count": null,
      "outputs": [
        {
          "output_type": "execute_result",
          "data": {
            "text/plain": [
              "(830, 100, 1)"
            ]
          },
          "metadata": {},
          "execution_count": 122
        }
      ]
    },
    {
      "cell_type": "code",
      "source": [
        "y_predicted=model.predict(x_test)"
      ],
      "metadata": {
        "id": "qjY2OE48EedM"
      },
      "execution_count": null,
      "outputs": []
    },
    {
      "cell_type": "code",
      "source": [
        "y_test"
      ],
      "metadata": {
        "id": "xPaeadYIEjfd",
        "colab": {
          "base_uri": "https://localhost:8080/"
        },
        "outputId": "5b2e39a2-7840-4e4e-fa74-4e38bdca0576"
      },
      "execution_count": null,
      "outputs": [
        {
          "output_type": "execute_result",
          "data": {
            "text/plain": [
              "array([0.5721008 , 0.55983025, 0.58151122, 0.57117821, 0.59590367,\n",
              "       0.584279  , 0.57782084, 0.57108597, 0.59728756, 0.57459176,\n",
              "       0.60503737, 0.5943353 , 0.59931733, 0.60568326, 0.5952579 ,\n",
              "       0.59350494, 0.59064492, 0.57532988, 0.54783652, 0.5550328 ,\n",
              "       0.52984593, 0.55558634, 0.58455582, 0.58298735, 0.58510936,\n",
              "       0.57938932, 0.58354099, 0.62459644, 0.60854328, 0.58621643,\n",
              "       0.57542212, 0.58372547, 0.58012733, 0.59396624, 0.58446359,\n",
              "       0.59811792, 0.5847403 , 0.56241356, 0.58390994, 0.61684663,\n",
              "       0.64166444, 0.67709197, 0.66445247, 0.67044934, 0.65697948,\n",
              "       0.65956268, 0.66583637, 0.68917805, 0.66694343, 0.65900914,\n",
              "       0.66140787, 0.66140787, 0.66519059, 0.6764462 , 0.65162839,\n",
              "       0.6598395 , 0.71556422, 0.77414897, 0.76409267, 0.77008953,\n",
              "       0.78669623, 0.77977677, 0.78789565, 0.76805987, 0.75228341,\n",
              "       0.74259617, 0.72303722, 0.70753759, 0.71990037, 0.71943908,\n",
              "       0.73290893, 0.72709665, 0.73604577, 0.73909038, 0.75099187,\n",
              "       0.76584562, 0.74988469, 0.73669166, 0.79140144, 0.770274  ,\n",
              "       0.79453828, 0.79389251, 0.79592217, 0.81077592, 0.80238033,\n",
              "       0.80717778, 0.79702924, 0.81898703, 0.8446352 , 0.83513243,\n",
              "       0.83753115, 0.81658831, 0.83762339, 0.84168283, 0.88116991,\n",
              "       0.8533075 , 0.85662893, 0.84574227, 0.84694168, 0.84703392,\n",
              "       0.83301042, 0.84924817, 0.84454285, 0.82876651, 0.85100101,\n",
              "       0.84823323, 0.86345603, 0.86364062, 0.83467113, 0.83051946,\n",
              "       0.82978134, 0.80773142, 0.84279001, 0.85561398, 0.82885875,\n",
              "       0.83799245, 0.81981739, 0.80948426, 0.79776736, 0.78946401,\n",
              "       0.796937  , 0.79149367, 0.79010978, 0.77276508, 0.79103238,\n",
              "       0.82258517, 0.88430676, 0.8668697 , 0.87830989, 0.87323562,\n",
              "       0.90423477, 0.9424302 , 0.93228166, 0.92545444, 0.93071319,\n",
              "       0.93209708, 0.94012372, 0.95885231, 0.93099001, 0.92416279,\n",
              "       0.9428915 , 0.9440908 , 0.94178432, 0.95396263, 0.91899628,\n",
              "       0.87563435, 0.87203621, 0.86271803, 0.86400968, 0.8633638 ,\n",
              "       0.84823323, 0.88292286, 0.89574684, 0.91761239, 0.93255837,\n",
              "       0.93606428, 0.92157948, 0.92822223, 0.93311191, 0.92803764,\n",
              "       0.88522935, 0.89131845, 0.86004248, 0.85478374, 0.83522467,\n",
              "       0.8240613 , 0.84491191, 0.82932004, 0.80680883, 0.78623493,\n",
              "       0.78291361, 0.78392844, 0.75495896, 0.77497932, 0.787342  ,\n",
              "       0.76962823, 0.74628655, 0.68447273, 0.67561584, 0.68401143,\n",
              "       0.66297635, 0.6935142 , 0.65836337, 0.65864008, 0.65993174,\n",
              "       0.63898889, 0.66436024, 0.68733286, 0.70458533, 0.68124365,\n",
              "       0.66712802, 0.66057762, 0.66565189, 0.70218661, 0.70080271,\n",
              "       0.69203807, 0.66057762, 0.66565189, 0.63206943, 0.63502169,\n",
              "       0.6392656 , 0.67893716, 0.67976752, 0.69849623, 0.6638067 ,\n",
              "       0.68474955, 0.67856821, 0.62238219, 0.63705147, 0.61823052,\n",
              "       0.69600516, 0.77931547, 0.74038204, 0.72294498, 0.73207869,\n",
              "       0.73337023, 0.70458533, 0.69379102, 0.67395524, 0.65181298,\n",
              "       0.68327342, 0.70698405, 0.68235083, 0.68188953, 0.70181755,\n",
              "       0.71390351, 0.72008496, 0.75126858, 0.74988469, 0.75578932,\n",
              "       0.75966417, 0.74647114, 0.74813174, 0.75089952, 0.80321069,\n",
              "       0.81972515, 0.79933573, 0.82138575, 0.81086815, 0.80247257,\n",
              "       0.81944833, 0.79638347, 0.77931547, 0.79444604, 0.7529293 ,\n",
              "       0.76160171, 0.76344689, 0.77461026, 0.82046316, 0.82221611,\n",
              "       0.80127326, 0.79149367, 0.83328724, 0.82867427, 0.82987369,\n",
              "       0.82562966, 0.80431776, 0.814005  , 0.79389251, 0.80579389,\n",
              "       0.78623493, 0.76473844, 0.7913092 , 0.76123265, 0.76280101,\n",
              "       0.77304179, 0.82821297, 0.81944833, 0.81649607, 0.80948426,\n",
              "       0.81077592, 0.80579389, 0.8118831 , 0.80727013, 0.79961255,\n",
              "       0.84325131, 0.83208783, 0.83208783, 0.82212387, 0.83734668,\n",
              "       0.81151404, 0.7751638 , 0.77977677, 0.77747028, 0.81132945,\n",
              "       0.80616295, 0.80127326, 0.82064775, 0.81769538, 0.80108868,\n",
              "       0.80588624, 0.78245232, 0.76473844, 0.75551249, 0.7747025 ,\n",
              "       0.80127326, 0.80653201, 0.80081197, 0.79730606, 0.78927954,\n",
              "       0.78632717, 0.74877762, 0.75994099, 0.77663993, 0.80044291,\n",
              "       0.82110904, 0.80810037, 0.82443036, 0.83420984, 0.82046316,\n",
              "       0.79961255, 0.80311845, 0.79435381, 0.80800813, 0.814005  ,\n",
              "       0.77922324, 0.78531234, 0.78651175, 0.79841313, 0.72728113,\n",
              "       0.7031092 , 0.70855253, 0.69941882, 0.69148453, 0.65411946,\n",
              "       0.59119846, 0.58344864, 0.44302983, 0.49017438, 0.37909405,\n",
              "       0.34172898, 0.31423567, 0.23083312, 0.23064859, 0.01014854,\n",
              "       0.        , 0.0436387 , 0.07057847, 0.10443769, 0.11993727,\n",
              "       0.13995758, 0.10240797, 0.04114774, 0.1581327 , 0.16274567,\n",
              "       0.21588708, 0.21367289, 0.21062828, 0.22031552, 0.32410739,\n",
              "       0.28194487, 0.21680968, 0.23618416, 0.23415444, 0.18599506,\n",
              "       0.22908017, 0.28102228, 0.25085343, 0.2615555 , 0.18387305,\n",
              "       0.15840946, 0.1581327 , 0.1738168 , 0.14558538, 0.14097241,\n",
              "       0.15444232, 0.20453918, 0.18230468, 0.15757911, 0.10268474,\n",
              "       0.09475045, 0.10951196, 0.09973248, 0.06236741, 0.07039394,\n",
              "       0.15471909, 0.1620076 , 0.15093647, 0.17307874, 0.19734296,\n",
              "       0.19632807, 0.16828123, 0.18848602, 0.2345235 , 0.21570255,\n",
              "       0.22935699, 0.20352435, 0.19346805, 0.15951659, 0.14466279,\n",
              "       0.15951659, 0.18867055, 0.21016699, 0.23433897, 0.25924902,\n",
              "       0.22419043, 0.21874716, 0.22455949, 0.18756342, 0.19097703,\n",
              "       0.24005907, 0.22151494, 0.23120218, 0.24144296, 0.26607624,\n",
              "       0.26017161, 0.27788543, 0.25177603, 0.25260633, 0.2113664 ,\n",
              "       0.22788081, 0.24144296, 0.2397823 , 0.24144296, 0.26395428,\n",
              "       0.32438421, 0.29098629, 0.26284716, 0.23692222, 0.24707076,\n",
              "       0.25417475, 0.22640468, 0.23710675, 0.21072058, 0.23249378,\n",
              "       0.24319591, 0.23959777, 0.2401513 , 0.23609192, 0.2672756 ,\n",
              "       0.2729957 , 0.26746013, 0.24485657, 0.24910048, 0.26321616,\n",
              "       0.2602639 , 0.24319591, 0.25334445, 0.26321616, 0.27428729,\n",
              "       0.29559926, 0.31349755, 0.38020117, 0.35722855, 0.33683924,\n",
              "       0.33444046, 0.31700346, 0.28056098, 0.28701914, 0.26054067,\n",
              "       0.23636869, 0.26515364, 0.26579947, 0.25352892, 0.27013562,\n",
              "       0.26358522, 0.25786513, 0.25869548, 0.22179171, 0.2008488 ,\n",
              "       0.21514902, 0.18322727, 0.20647661, 0.2511302 , 0.22824987,\n",
              "       0.22419043, 0.25934131, 0.26017161, 0.27032015, 0.27668607,\n",
              "       0.27447182, 0.30427161, 0.30417937, 0.29190888, 0.31026847,\n",
              "       0.29421537, 0.31229819, 0.35021686, 0.35206204, 0.36590096,\n",
              "       0.38223083, 0.37651079, 0.35095492, 0.37817145, 0.37189782,\n",
              "       0.35187751, 0.3493865 , 0.40501898, 0.42623865, 0.40963196,\n",
              "       0.43574131, 0.44026204, 0.48325492, 0.51748315, 0.56370521,\n",
              "       0.54719075, 0.56684194, 0.57200856, 0.6008857 , 0.61472462,\n",
              "       0.56896396, 0.56222897, 0.53962541, 0.58400229, 0.54746746,\n",
              "       0.57090138, 0.55069654, 0.55447927, 0.56269027, 0.55272632,\n",
              "       0.57449952, 0.58326417, 0.58584748, 0.61084976, 0.59765662,\n",
              "       0.57219304, 0.57708283, 0.56084508, 0.55899989, 0.55770835,\n",
              "       0.56527358, 0.51545348, 0.5288311 , 0.53381313, 0.56656523,\n",
              "       0.58031191, 0.60346901, 0.59405848, 0.58547842, 0.59165976,\n",
              "       0.59332047, 0.66666672, 0.64784578, 0.67893716, 0.68188953,\n",
              "       0.67127969, 0.6874251 , 0.70975183, 0.68797863, 0.68585662,\n",
              "       0.65292004, 0.67460101, 0.68751733, 0.68770181, 0.62985519,\n",
              "       0.65550335, 0.6069748 , 0.67819915, 0.6638067 , 0.74951563,\n",
              "       0.75846486, 0.79463052, 0.81326699, 0.76842881, 0.79896678,\n",
              "       0.81068368, 0.79647571, 0.80625518, 0.82526072, 0.9057109 ,\n",
              "       0.87074455, 0.87572658, 0.87434269, 0.82387683, 0.7681521 ,\n",
              "       0.76169394, 0.82341553, 0.86262579, 0.77802382, 0.78494328,\n",
              "       0.78992531, 0.83181111, 0.80016608, 0.78900271, 0.81215981,\n",
              "       0.81612701, 0.84435838, 0.82562966, 0.81418958, 0.80191903,\n",
              "       0.78374397, 0.76686045, 0.78069936, 0.76215524, 0.78863365,\n",
              "       0.74407241, 0.7222991 , 0.72894184, 0.72368299, 0.72755795,\n",
              "       0.75625061, 0.70504663, 0.69148453, 0.71058219, 0.69831164,\n",
              "       0.67358618, 0.61343296, 0.6603008 , 0.67478549, 0.67543137,\n",
              "       0.63659017, 0.6432328 , 0.65605689, 0.67939846, 0.73309352,\n",
              "       0.7314328 , 0.74730149, 0.76805987, 0.75975652, 0.73733743,\n",
              "       0.73290893, 0.76400043, 0.76132488, 0.76317007, 0.76040229,\n",
              "       0.74582525, 0.71621   , 0.70458533, 0.74933116, 0.75375965,\n",
              "       0.76326231, 0.74314982, 0.78927954, 0.80819272, 0.79047884,\n",
              "       0.79702924, 0.82516837, 0.80579389, 0.82581425, 0.81557348,\n",
              "       0.80053514, 0.82572201, 0.80985332, 0.82655226, 0.81778761,\n",
              "       0.80007385, 0.81391276, 0.80321069, 0.79915125, 0.82618331,\n",
              "       0.82415354, 0.8034874 , 0.79924349, 0.80524035, 0.80487129,\n",
              "       0.79195497, 0.80450234, 0.84546544, 0.84740298, 0.82812074,\n",
              "       0.82138575, 0.8179722 , 0.82572201, 0.84362025, 0.83992988,\n",
              "       0.84832558, 0.83264147, 0.8196328 , 0.83116523, 0.86281026,\n",
              "       0.86151861, 0.86908395, 0.86354838, 0.8341176 , 0.81668054,\n",
              "       0.81852573, 0.83448666, 0.83614726, 0.79075567, 0.77451803,\n",
              "       0.76409267, 0.74868538, 0.77128895, 0.8034874 , 0.83153429,\n",
              "       0.82323094, 0.80763907, 0.83467113, 0.8458345 , 0.84445061,\n",
              "       0.83808469, 0.84279001, 0.84666486, 0.83697762, 0.83264147,\n",
              "       0.80653201, 0.79887443, 0.81778761, 0.80431776, 0.81778761,\n",
              "       0.82895109, 0.88735125, 0.89187199, 0.91475237, 0.92176407,\n",
              "       0.91309166, 0.91825816, 0.89436295, 0.90700256, 0.89860697,\n",
              "       0.89528554, 0.90644902, 0.90091346, 0.92157948, 0.93034413,\n",
              "       0.90912445, 0.90820186, 0.89528554, 0.93920112, 0.91318389,\n",
              "       0.91115423, 0.89685402, 0.88384546, 0.85506045, 0.85801282,\n",
              "       0.87803307, 0.8846757 , 0.87794083, 0.87452717, 0.8834764 ,\n",
              "       0.8930714 , 0.91152329, 0.90681797, 0.92056465, 0.94132302,\n",
              "       0.91982664, 0.92563892, 0.93117448, 0.94759671, 1.        ,\n",
              "       0.99409549, 0.89371717, 0.83992988, 0.80976109, 0.82885875,\n",
              "       0.83531691, 0.82562966, 0.82996593, 0.82646002, 0.81538889,\n",
              "       0.82332318, 0.80247257, 0.79878219, 0.79361569, 0.78051489,\n",
              "       0.7550512 , 0.74398006, 0.70716864, 0.70578475, 0.70486215,\n",
              "       0.69517491, 0.66168469, 0.64203339, 0.65042908, 0.69462126,\n",
              "       0.6881631 , 0.68244306, 0.66417565, 0.70827571, 0.72691207,\n",
              "       0.72109979, 0.71021313, 0.73964391, 0.75237576, 0.75532802,\n",
              "       0.75006928, 0.71178161, 0.68493402, 0.66924992, 0.67570808,\n",
              "       0.69314514, 0.67229453, 0.6808747 , 0.6869638 , 0.67783009,\n",
              "       0.67478549, 0.69268384, 0.72552818, 0.74914668, 0.78189878,\n",
              "       0.78817236, 0.78872589, 0.81123722, 0.81206757, 0.81871021,\n",
              "       0.80736236, 0.77230378, 0.75560484, 0.77876194, 0.7868807 ,\n",
              "       0.78558916, 0.75532802, 0.74075098, 0.82858203, 0.8685303 ,\n",
              "       0.85164689, 0.86705417, 0.88338416, 0.92434726, 0.91595168,\n",
              "       0.91410649, 0.89759203, 0.91410649, 0.92388596, 0.93486486,\n",
              "       0.92379373, 0.86760771, 0.91115423, 0.9113387 , 0.88504476,\n",
              "       0.8935327 , 0.89620813, 0.87830989, 0.87471175, 0.78817236,\n",
              "       0.83937634, 0.81049921, 0.82498389, 0.80173456, 0.75994099,\n",
              "       0.67238676, 0.67764562, 0.68465731, 0.72294498, 0.71537964,\n",
              "       0.75080728, 0.72884961, 0.77627087, 0.80468682, 0.80468682])"
            ]
          },
          "metadata": {},
          "execution_count": 124
        }
      ]
    },
    {
      "cell_type": "code",
      "source": [
        "minmax.scale_"
      ],
      "metadata": {
        "colab": {
          "base_uri": "https://localhost:8080/"
        },
        "id": "0S4LwCsPR4JU",
        "outputId": "2522b314-227b-405a-85c7-60b4546640eb"
      },
      "execution_count": null,
      "outputs": [
        {
          "output_type": "execute_result",
          "data": {
            "text/plain": [
              "array([0.00184519])"
            ]
          },
          "metadata": {},
          "execution_count": 125
        }
      ]
    },
    {
      "cell_type": "code",
      "source": [
        "scale_fac=1/0.00184519"
      ],
      "metadata": {
        "id": "hL3_cHKyR-Za"
      },
      "execution_count": null,
      "outputs": []
    },
    {
      "cell_type": "code",
      "source": [
        "y_predicted=y_predicted*scale_fac\n",
        "y_test=y_test*scale_fac"
      ],
      "metadata": {
        "id": "0hybu_hZSF8s"
      },
      "execution_count": null,
      "outputs": []
    },
    {
      "cell_type": "code",
      "source": [
        "plt.plot(y_test,\"b\",label=\"origianl Price\")\n",
        "plt.plot(y_predicted,\"r\",label=\"predicted Price\")\n",
        "plt.xlabel(\"Time\")\n",
        "plt.ylabel(\"Price\")\n",
        "plt.legend()\n",
        "plt.show()"
      ],
      "metadata": {
        "colab": {
          "base_uri": "https://localhost:8080/",
          "height": 279
        },
        "id": "cHJQkCHRSNEe",
        "outputId": "625e2f7e-ba41-4aa9-fdd5-cf3db71244ec"
      },
      "execution_count": null,
      "outputs": [
        {
          "output_type": "display_data",
          "data": {
            "text/plain": [
              "<Figure size 432x288 with 1 Axes>"
            ],
            "image/png": "[encoded data removed]"
          },
          "metadata": {
            "needs_background": "light"
          }
        }
      ]
    },
    {
      "cell_type": "code",
      "source": [
        ""
      ],
      "metadata": {
        "id": "nYUL4HY7SnKo"
      },
      "execution_count": null,
      "outputs": []
    }
  ]
}