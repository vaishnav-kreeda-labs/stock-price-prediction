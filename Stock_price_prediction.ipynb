{
  "nbformat": 4,
  "nbformat_minor": 0,
  "metadata": {
    "colab": {
      "name": "Stock_price_prediction.ipynb",
      "provenance": [],
      "authorship_tag": "ABX9TyN91aL9S/Vl//sKqfK7XI5T"
    },
    "kernelspec": {
      "display_name": "Python 3",
      "name": "python3"
    },
    "language_info": {
      "name": "python"
    }
  },
  "cells": [
    {
      "cell_type": "code",
      "metadata": {
        "id": "Bt5YesVn7YOx"
      },
      "source": [
        "import numpy as np \n",
        "import pandas as pd \n",
        "import matplotlib.pyplot as plt \n",
        "from sklearn.preprocessing import MinMaxScaler\n",
        "from keras.models import Sequential\n",
        "from keras.layers import Dense,LSTM,Dropout"
      ],
      "execution_count": null,
      "outputs": []
    },
    {
      "cell_type": "code",
      "metadata": {
        "colab": {
          "base_uri": "https://localhost:8080/",
          "height": 419
        },
        "id": "N5X9f6og7kjR",
        "outputId": "90b4f0b7-285b-45de-9319-41b2dc6a6303"
      },
      "source": [
        "data = pd.read_csv('Google_train_data.csv')\n",
        "data"
      ],
      "execution_count": null,
      "outputs": [
        {
          "output_type": "execute_result",
          "data": {
            "text/html": [
              "<div>\n",
              "<style scoped>\n",
              "    .dataframe tbody tr th:only-of-type {\n",
              "        vertical-align: middle;\n",
              "    }\n",
              "\n",
              "    .dataframe tbody tr th {\n",
              "        vertical-align: top;\n",
              "    }\n",
              "\n",
              "    .dataframe thead th {\n",
              "        text-align: right;\n",
              "    }\n",
              "</style>\n",
              "<table border=\"1\" class=\"dataframe\">\n",
              "  <thead>\n",
              "    <tr style=\"text-align: right;\">\n",
              "      <th></th>\n",
              "      <th>Date</th>\n",
              "      <th>Open</th>\n",
              "      <th>High</th>\n",
              "      <th>Low</th>\n",
              "      <th>Close</th>\n",
              "      <th>Volume</th>\n",
              "    </tr>\n",
              "  </thead>\n",
              "  <tbody>\n",
              "    <tr>\n",
              "      <th>0</th>\n",
              "      <td>1/3/2012</td>\n",
              "      <td>325.25</td>\n",
              "      <td>332.83</td>\n",
              "      <td>324.97</td>\n",
              "      <td>663.59</td>\n",
              "      <td>7,380,500</td>\n",
              "    </tr>\n",
              "    <tr>\n",
              "      <th>1</th>\n",
              "      <td>1/4/2012</td>\n",
              "      <td>331.27</td>\n",
              "      <td>333.87</td>\n",
              "      <td>329.08</td>\n",
              "      <td>666.45</td>\n",
              "      <td>5,749,400</td>\n",
              "    </tr>\n",
              "    <tr>\n",
              "      <th>2</th>\n",
              "      <td>1/5/2012</td>\n",
              "      <td>329.83</td>\n",
              "      <td>330.75</td>\n",
              "      <td>326.89</td>\n",
              "      <td>657.21</td>\n",
              "      <td>6,590,300</td>\n",
              "    </tr>\n",
              "    <tr>\n",
              "      <th>3</th>\n",
              "      <td>1/6/2012</td>\n",
              "      <td>328.34</td>\n",
              "      <td>328.77</td>\n",
              "      <td>323.68</td>\n",
              "      <td>648.24</td>\n",
              "      <td>5,405,900</td>\n",
              "    </tr>\n",
              "    <tr>\n",
              "      <th>4</th>\n",
              "      <td>1/9/2012</td>\n",
              "      <td>322.04</td>\n",
              "      <td>322.29</td>\n",
              "      <td>309.46</td>\n",
              "      <td>620.76</td>\n",
              "      <td>11,688,800</td>\n",
              "    </tr>\n",
              "    <tr>\n",
              "      <th>...</th>\n",
              "      <td>...</td>\n",
              "      <td>...</td>\n",
              "      <td>...</td>\n",
              "      <td>...</td>\n",
              "      <td>...</td>\n",
              "      <td>...</td>\n",
              "    </tr>\n",
              "    <tr>\n",
              "      <th>1253</th>\n",
              "      <td>12/23/2016</td>\n",
              "      <td>790.90</td>\n",
              "      <td>792.74</td>\n",
              "      <td>787.28</td>\n",
              "      <td>789.91</td>\n",
              "      <td>623,400</td>\n",
              "    </tr>\n",
              "    <tr>\n",
              "      <th>1254</th>\n",
              "      <td>12/27/2016</td>\n",
              "      <td>790.68</td>\n",
              "      <td>797.86</td>\n",
              "      <td>787.66</td>\n",
              "      <td>791.55</td>\n",
              "      <td>789,100</td>\n",
              "    </tr>\n",
              "    <tr>\n",
              "      <th>1255</th>\n",
              "      <td>12/28/2016</td>\n",
              "      <td>793.70</td>\n",
              "      <td>794.23</td>\n",
              "      <td>783.20</td>\n",
              "      <td>785.05</td>\n",
              "      <td>1,153,800</td>\n",
              "    </tr>\n",
              "    <tr>\n",
              "      <th>1256</th>\n",
              "      <td>12/29/2016</td>\n",
              "      <td>783.33</td>\n",
              "      <td>785.93</td>\n",
              "      <td>778.92</td>\n",
              "      <td>782.79</td>\n",
              "      <td>744,300</td>\n",
              "    </tr>\n",
              "    <tr>\n",
              "      <th>1257</th>\n",
              "      <td>12/30/2016</td>\n",
              "      <td>782.75</td>\n",
              "      <td>782.78</td>\n",
              "      <td>770.41</td>\n",
              "      <td>771.82</td>\n",
              "      <td>1,770,000</td>\n",
              "    </tr>\n",
              "  </tbody>\n",
              "</table>\n",
              "<p>1258 rows × 6 columns</p>\n",
              "</div>"
            ],
            "text/plain": [
              "            Date    Open    High     Low   Close      Volume\n",
              "0       1/3/2012  325.25  332.83  324.97  663.59   7,380,500\n",
              "1       1/4/2012  331.27  333.87  329.08  666.45   5,749,400\n",
              "2       1/5/2012  329.83  330.75  326.89  657.21   6,590,300\n",
              "3       1/6/2012  328.34  328.77  323.68  648.24   5,405,900\n",
              "4       1/9/2012  322.04  322.29  309.46  620.76  11,688,800\n",
              "...          ...     ...     ...     ...     ...         ...\n",
              "1253  12/23/2016  790.90  792.74  787.28  789.91     623,400\n",
              "1254  12/27/2016  790.68  797.86  787.66  791.55     789,100\n",
              "1255  12/28/2016  793.70  794.23  783.20  785.05   1,153,800\n",
              "1256  12/29/2016  783.33  785.93  778.92  782.79     744,300\n",
              "1257  12/30/2016  782.75  782.78  770.41  771.82   1,770,000\n",
              "\n",
              "[1258 rows x 6 columns]"
            ]
          },
          "metadata": {},
          "execution_count": 58
        }
      ]
    },
    {
      "cell_type": "code",
      "metadata": {
        "colab": {
          "base_uri": "https://localhost:8080/"
        },
        "id": "zkoEuPbfCnmx",
        "outputId": "09a30adf-5344-4240-d8c8-70943b1e5230"
      },
      "source": [
        "data.info()"
      ],
      "execution_count": null,
      "outputs": [
        {
          "output_type": "stream",
          "name": "stdout",
          "text": [
            "<class 'pandas.core.frame.DataFrame'>\n",
            "RangeIndex: 1258 entries, 0 to 1257\n",
            "Data columns (total 6 columns):\n",
            " #   Column  Non-Null Count  Dtype  \n",
            "---  ------  --------------  -----  \n",
            " 0   Date    1258 non-null   object \n",
            " 1   Open    1258 non-null   float64\n",
            " 2   High    1258 non-null   float64\n",
            " 3   Low     1258 non-null   float64\n",
            " 4   Close   1258 non-null   object \n",
            " 5   Volume  1258 non-null   object \n",
            "dtypes: float64(3), object(3)\n",
            "memory usage: 59.1+ KB\n"
          ]
        }
      ]
    },
    {
      "cell_type": "code",
      "metadata": {
        "colab": {
          "base_uri": "https://localhost:8080/"
        },
        "id": "bw-0jfFUF3m7",
        "outputId": "01a5fb27-48d0-4e2e-f97d-1f387e10ff1c"
      },
      "source": [
        "data[\"Close\"]=pd.to_numeric(data.Close,errors='coerce')\n",
        "data = data.dropna()\n",
        "trainData = data.iloc[:,4:5].values\n",
        "trainData"
      ],
      "execution_count": null,
      "outputs": [
        {
          "output_type": "execute_result",
          "data": {
            "text/plain": [
              "array([[663.59],\n",
              "       [666.45],\n",
              "       [657.21],\n",
              "       ...,\n",
              "       [785.05],\n",
              "       [782.79],\n",
              "       [771.82]])"
            ]
          },
          "metadata": {},
          "execution_count": 60
        }
      ]
    },
    {
      "cell_type": "code",
      "metadata": {
        "colab": {
          "base_uri": "https://localhost:8080/"
        },
        "id": "dxW3fEJzGfmq",
        "outputId": "097012fb-6724-4b46-cf5b-4cdf4a765ccf"
      },
      "source": [
        "data.info()"
      ],
      "execution_count": null,
      "outputs": [
        {
          "output_type": "stream",
          "name": "stdout",
          "text": [
            "<class 'pandas.core.frame.DataFrame'>\n",
            "Int64Index: 1149 entries, 0 to 1257\n",
            "Data columns (total 6 columns):\n",
            " #   Column  Non-Null Count  Dtype  \n",
            "---  ------  --------------  -----  \n",
            " 0   Date    1149 non-null   object \n",
            " 1   Open    1149 non-null   float64\n",
            " 2   High    1149 non-null   float64\n",
            " 3   Low     1149 non-null   float64\n",
            " 4   Close   1149 non-null   float64\n",
            " 5   Volume  1149 non-null   object \n",
            "dtypes: float64(4), object(2)\n",
            "memory usage: 62.8+ KB\n"
          ]
        }
      ]
    },
    {
      "cell_type": "code",
      "metadata": {
        "colab": {
          "base_uri": "https://localhost:8080/"
        },
        "id": "3v8Jp3tLG5RU",
        "outputId": "82c0b624-26ff-4b90-d6a8-75da08c13aa8"
      },
      "source": [
        "sc = MinMaxScaler(feature_range=(0,1))\n",
        "trainData = sc.fit_transform(trainData)\n",
        "print(trainData.shape)\n",
        "trainData"
      ],
      "execution_count": null,
      "outputs": [
        {
          "output_type": "stream",
          "name": "stdout",
          "text": [
            "(1149, 1)\n"
          ]
        },
        {
          "output_type": "execute_result",
          "data": {
            "text/plain": [
              "array([[0.40001392],\n",
              "       [0.40665027],\n",
              "       [0.38520976],\n",
              "       ...,\n",
              "       [0.68184982],\n",
              "       [0.67660572],\n",
              "       [0.65115092]])"
            ]
          },
          "metadata": {},
          "execution_count": 62
        }
      ]
    },
    {
      "cell_type": "code",
      "metadata": {
        "id": "WDJephCPIMhb"
      },
      "source": [
        "X_train = []\n",
        "y_train = []\n",
        "\n",
        "for i in range (60,1149): \n",
        "    X_train.append(trainData[i-60:i,0]) \n",
        "    y_train.append(trainData[i,0])\n",
        "\n",
        "X_train,y_train = np.array(X_train),np.array(y_train)"
      ],
      "execution_count": null,
      "outputs": []
    },
    {
      "cell_type": "code",
      "metadata": {
        "colab": {
          "base_uri": "https://localhost:8080/"
        },
        "id": "qkqMHX_HKPPF",
        "outputId": "2851e332-59e5-4548-ab98-a2bec49374a7"
      },
      "source": [
        "X_train = np.reshape(X_train,(X_train.shape[0],X_train.shape[1],1))\n",
        "print(X_train.shape)\n",
        "X_train"
      ],
      "execution_count": null,
      "outputs": [
        {
          "output_type": "stream",
          "name": "stdout",
          "text": [
            "(1089, 60, 1)\n"
          ]
        },
        {
          "output_type": "execute_result",
          "data": {
            "text/plain": [
              "array([[[0.40001392],\n",
              "        [0.40665027],\n",
              "        [0.38520976],\n",
              "        ...,\n",
              "        [0.36279469],\n",
              "        [0.35745777],\n",
              "        [0.37766846]],\n",
              "\n",
              "       [[0.40665027],\n",
              "        [0.38520976],\n",
              "        [0.36439577],\n",
              "        ...,\n",
              "        [0.35745777],\n",
              "        [0.37766846],\n",
              "        [0.36065992]],\n",
              "\n",
              "       [[0.38520976],\n",
              "        [0.36439577],\n",
              "        [0.30063115],\n",
              "        ...,\n",
              "        [0.37766846],\n",
              "        [0.36065992],\n",
              "        [0.34406906]],\n",
              "\n",
              "       ...,\n",
              "\n",
              "       [[0.65286802],\n",
              "        [0.66184797],\n",
              "        [0.66194078],\n",
              "        ...,\n",
              "        [0.69625951],\n",
              "        [0.69312697],\n",
              "        [0.69693243]],\n",
              "\n",
              "       [[0.66184797],\n",
              "        [0.66194078],\n",
              "        [0.66284574],\n",
              "        ...,\n",
              "        [0.69312697],\n",
              "        [0.69693243],\n",
              "        [0.68184982]],\n",
              "\n",
              "       [[0.66194078],\n",
              "        [0.66284574],\n",
              "        [0.65871543],\n",
              "        ...,\n",
              "        [0.69693243],\n",
              "        [0.68184982],\n",
              "        [0.67660572]]])"
            ]
          },
          "metadata": {},
          "execution_count": 64
        }
      ]
    },
    {
      "cell_type": "code",
      "metadata": {
        "id": "JT0DIJiUK58u"
      },
      "source": [
        "model = Sequential()\n",
        "\n",
        "model.add(LSTM(units=100, return_sequences = True, input_shape =(X_train.shape[1],1)))\n",
        "model.add(Dropout(0.2))\n",
        "\n",
        "model.add(LSTM(units=100, return_sequences = True))\n",
        "model.add(Dropout(0.2))\n",
        "\n",
        "model.add(LSTM(units=100, return_sequences = True))\n",
        "model.add(Dropout(0.2))\n",
        "\n",
        "model.add(LSTM(units=100, return_sequences = False))\n",
        "model.add(Dropout(0.2))\n",
        "\n",
        "model.add(Dense(units =1))\n",
        "model.compile(optimizer='adam',loss=\"mean_squared_error\")"
      ],
      "execution_count": null,
      "outputs": []
    },
    {
      "cell_type": "code",
      "metadata": {
        "colab": {
          "base_uri": "https://localhost:8080/"
        },
        "id": "nB7z0xTchtWM",
        "outputId": "21e6fdc7-c976-4415-8985-dac0544c719e"
      },
      "source": [
        "hist = model.fit(X_train, y_train, epochs = 20, batch_size = 32, verbose=2)"
      ],
      "execution_count": null,
      "outputs": [
        {
          "output_type": "stream",
          "name": "stdout",
          "text": [
            "Epoch 1/20\n",
            "35/35 - 14s - loss: 0.0305\n",
            "Epoch 2/20\n",
            "35/35 - 7s - loss: 0.0117\n",
            "Epoch 3/20\n",
            "35/35 - 7s - loss: 0.0085\n",
            "Epoch 4/20\n",
            "35/35 - 7s - loss: 0.0072\n",
            "Epoch 5/20\n",
            "35/35 - 7s - loss: 0.0072\n",
            "Epoch 6/20\n",
            "35/35 - 7s - loss: 0.0066\n",
            "Epoch 7/20\n",
            "35/35 - 7s - loss: 0.0073\n",
            "Epoch 8/20\n",
            "35/35 - 7s - loss: 0.0076\n",
            "Epoch 9/20\n",
            "35/35 - 7s - loss: 0.0068\n",
            "Epoch 10/20\n",
            "35/35 - 7s - loss: 0.0061\n",
            "Epoch 11/20\n",
            "35/35 - 7s - loss: 0.0068\n",
            "Epoch 12/20\n",
            "35/35 - 7s - loss: 0.0053\n",
            "Epoch 13/20\n",
            "35/35 - 7s - loss: 0.0052\n",
            "Epoch 14/20\n",
            "35/35 - 7s - loss: 0.0059\n",
            "Epoch 15/20\n",
            "35/35 - 7s - loss: 0.0053\n",
            "Epoch 16/20\n",
            "35/35 - 7s - loss: 0.0045\n",
            "Epoch 17/20\n",
            "35/35 - 7s - loss: 0.0053\n",
            "Epoch 18/20\n",
            "35/35 - 7s - loss: 0.0045\n",
            "Epoch 19/20\n",
            "35/35 - 7s - loss: 0.0048\n",
            "Epoch 20/20\n",
            "35/35 - 7s - loss: 0.0048\n"
          ]
        }
      ]
    },
    {
      "cell_type": "code",
      "metadata": {
        "id": "9MXeo-wkhx5V",
        "colab": {
          "base_uri": "https://localhost:8080/",
          "height": 295
        },
        "outputId": "654525fc-fe66-4188-f366-17ce54e8d5bc"
      },
      "source": [
        "plt.plot(hist.history['loss'])\n",
        "plt.title('Training model loss')\n",
        "plt.ylabel('loss')\n",
        "plt.xlabel('epoch')\n",
        "plt.legend(['train'], loc='upper left')\n",
        "plt.show()"
      ],
      "execution_count": null,
      "outputs": [
        {
          "output_type": "display_data",
          "data": {
            "image/png": "[encoded data removed]",
            "text/plain": [
              "<Figure size 432x288 with 1 Axes>"
            ]
          },
          "metadata": {
            "needs_background": "light"
          }
        }
      ]
    },
    {
      "cell_type": "code",
      "metadata": {
        "colab": {
          "base_uri": "https://localhost:8080/"
        },
        "id": "-kEha8EH1Us1",
        "outputId": "ba8382ec-ef54-44d6-bdc2-43ed3ac7d3d1"
      },
      "source": [
        "testData = pd.read_csv('Google_test_data.csv')\n",
        "testData[\"Close\"]=pd.to_numeric(testData.Close,errors='coerce')\n",
        "testData = testData.dropna()\n",
        "testData = testData.iloc[:,4:5]\n",
        "y_test = testData.iloc[60:,0:].values \n",
        "inputClosing = testData.iloc[:,0:].values \n",
        "inputClosing_scaled = sc.transform(inputClosing)\n",
        "inputClosing_scaled.shape\n",
        "X_test = []\n",
        "length = len(testData)\n",
        "timestep = 60\n",
        "for i in range(timestep,length):  \n",
        "    X_test.append(inputClosing_scaled[i-timestep:i,0])\n",
        "X_test = np.array(X_test)\n",
        "X_test = np.reshape(X_test,(X_test.shape[0],X_test.shape[1],1))\n",
        "X_test.shape"
      ],
      "execution_count": null,
      "outputs": [
        {
          "output_type": "execute_result",
          "data": {
            "text/plain": [
              "(192, 60, 1)"
            ]
          },
          "metadata": {},
          "execution_count": 68
        }
      ]
    },
    {
      "cell_type": "code",
      "metadata": {
        "colab": {
          "base_uri": "https://localhost:8080/"
        },
        "id": "zL5cAa6J1YDx",
        "outputId": "92b3ae5f-c5e1-4a44-b2a5-cd72d0683af4"
      },
      "source": [
        "y_pred = model.predict(X_test)\n",
        "y_pred"
      ],
      "execution_count": null,
      "outputs": [
        {
          "output_type": "execute_result",
          "data": {
            "text/plain": [
              "array([[1.1977971],\n",
              "       [1.2000504],\n",
              "       [1.2121533],\n",
              "       [1.2299892],\n",
              "       [1.2429272],\n",
              "       [1.2399147],\n",
              "       [1.2232254],\n",
              "       [1.203113 ],\n",
              "       [1.1923349],\n",
              "       [1.1917623],\n",
              "       [1.186342 ],\n",
              "       [1.1752939],\n",
              "       [1.1655961],\n",
              "       [1.1568071],\n",
              "       [1.156208 ],\n",
              "       [1.1623653],\n",
              "       [1.1828079],\n",
              "       [1.2130487],\n",
              "       [1.2456294],\n",
              "       [1.2762413],\n",
              "       [1.2844568],\n",
              "       [1.2759125],\n",
              "       [1.2507257],\n",
              "       [1.2189138],\n",
              "       [1.1932644],\n",
              "       [1.1818107],\n",
              "       [1.1827016],\n",
              "       [1.185274 ],\n",
              "       [1.1784017],\n",
              "       [1.1667395],\n",
              "       [1.1540618],\n",
              "       [1.1400629],\n",
              "       [1.1190159],\n",
              "       [1.0935588],\n",
              "       [1.0860947],\n",
              "       [1.1003356],\n",
              "       [1.1262338],\n",
              "       [1.1526562],\n",
              "       [1.1754667],\n",
              "       [1.1842139],\n",
              "       [1.1939819],\n",
              "       [1.2076769],\n",
              "       [1.2245464],\n",
              "       [1.2400548],\n",
              "       [1.2496293],\n",
              "       [1.248813 ],\n",
              "       [1.2364198],\n",
              "       [1.2268317],\n",
              "       [1.2256267],\n",
              "       [1.2336334],\n",
              "       [1.2486968],\n",
              "       [1.2575771],\n",
              "       [1.2586036],\n",
              "       [1.2537994],\n",
              "       [1.251424 ],\n",
              "       [1.2473516],\n",
              "       [1.2385142],\n",
              "       [1.2349772],\n",
              "       [1.2461793],\n",
              "       [1.266364 ],\n",
              "       [1.2936486],\n",
              "       [1.3248492],\n",
              "       [1.344059 ],\n",
              "       [1.3432202],\n",
              "       [1.3266766],\n",
              "       [1.3038695],\n",
              "       [1.290487 ],\n",
              "       [1.2886605],\n",
              "       [1.2949603],\n",
              "       [1.3019809],\n",
              "       [1.3078449],\n",
              "       [1.3104492],\n",
              "       [1.3051819],\n",
              "       [1.2984365],\n",
              "       [1.2934052],\n",
              "       [1.2926719],\n",
              "       [1.2956903],\n",
              "       [1.3015771],\n",
              "       [1.3143928],\n",
              "       [1.3329426],\n",
              "       [1.3561094],\n",
              "       [1.3770428],\n",
              "       [1.3869226],\n",
              "       [1.3855791],\n",
              "       [1.3875407],\n",
              "       [1.4002181],\n",
              "       [1.418963 ],\n",
              "       [1.4342453],\n",
              "       [1.4417835],\n",
              "       [1.4420507],\n",
              "       [1.442324 ],\n",
              "       [1.4520017],\n",
              "       [1.4701569],\n",
              "       [1.4813765],\n",
              "       [1.4782366],\n",
              "       [1.4623436],\n",
              "       [1.4379159],\n",
              "       [1.411681 ],\n",
              "       [1.3916353],\n",
              "       [1.3872464],\n",
              "       [1.3975562],\n",
              "       [1.4167827],\n",
              "       [1.4399874],\n",
              "       [1.4584137],\n",
              "       [1.4678415],\n",
              "       [1.4672402],\n",
              "       [1.4619693],\n",
              "       [1.4566965],\n",
              "       [1.4574223],\n",
              "       [1.463917 ],\n",
              "       [1.4744552],\n",
              "       [1.488088 ],\n",
              "       [1.5009794],\n",
              "       [1.5142328],\n",
              "       [1.5307013],\n",
              "       [1.543834 ],\n",
              "       [1.5532051],\n",
              "       [1.5611875],\n",
              "       [1.5722308],\n",
              "       [1.5501153],\n",
              "       [1.4966278],\n",
              "       [1.4324931],\n",
              "       [1.3850865],\n",
              "       [1.3633766],\n",
              "       [1.3583398],\n",
              "       [1.3600625],\n",
              "       [1.3628714],\n",
              "       [1.3661442],\n",
              "       [1.3598791],\n",
              "       [1.3431568],\n",
              "       [1.3365555],\n",
              "       [1.3478129],\n",
              "       [1.3654618],\n",
              "       [1.374005 ],\n",
              "       [1.3751037],\n",
              "       [1.3729862],\n",
              "       [1.3671969],\n",
              "       [1.357573 ],\n",
              "       [1.3471869],\n",
              "       [1.3333806],\n",
              "       [1.3192726],\n",
              "       [1.3038038],\n",
              "       [1.2694783],\n",
              "       [1.2287703],\n",
              "       [1.1909457],\n",
              "       [1.1637812],\n",
              "       [1.1557952],\n",
              "       [1.1682492],\n",
              "       [1.192585 ],\n",
              "       [1.2185729],\n",
              "       [1.24277  ],\n",
              "       [1.2610902],\n",
              "       [1.27409  ],\n",
              "       [1.2852361],\n",
              "       [1.2941135],\n",
              "       [1.3023692],\n",
              "       [1.3122101],\n",
              "       [1.320061 ],\n",
              "       [1.3155329],\n",
              "       [1.2986829],\n",
              "       [1.2754116],\n",
              "       [1.2543854],\n",
              "       [1.2449454],\n",
              "       [1.2505679],\n",
              "       [1.2688423],\n",
              "       [1.2947274],\n",
              "       [1.3159342],\n",
              "       [1.3300999],\n",
              "       [1.3419461],\n",
              "       [1.3529958],\n",
              "       [1.362159 ],\n",
              "       [1.3696852],\n",
              "       [1.3757573],\n",
              "       [1.3775098],\n",
              "       [1.3751746],\n",
              "       [1.3655288],\n",
              "       [1.3541374],\n",
              "       [1.3472644],\n",
              "       [1.3432097],\n",
              "       [1.3391463],\n",
              "       [1.3706516],\n",
              "       [1.4262302],\n",
              "       [1.4794941],\n",
              "       [1.5126921],\n",
              "       [1.5214424],\n",
              "       [1.5079782],\n",
              "       [1.4698032],\n",
              "       [1.4274307],\n",
              "       [1.3951249],\n",
              "       [1.3869586],\n",
              "       [1.3929037],\n",
              "       [1.3996482]], dtype=float32)"
            ]
          },
          "metadata": {},
          "execution_count": 69
        }
      ]
    },
    {
      "cell_type": "code",
      "metadata": {
        "id": "Gw59_dwE1awj"
      },
      "source": [
        "predicted_price = sc.inverse_transform(y_pred)"
      ],
      "execution_count": null,
      "outputs": []
    },
    {
      "cell_type": "code",
      "metadata": {
        "id": "NDPQr-561dq9",
        "outputId": "b0247065-1fcb-41af-f54e-71fc87af867c",
        "colab": {
          "base_uri": "https://localhost:8080/",
          "height": 295
        }
      },
      "source": [
        "plt.plot(y_test, color = 'red', label = 'Actual Stock Price')\n",
        "plt.plot(predicted_price, color = 'green', label = 'Predicted Stock Price')\n",
        "plt.title('Google stock price prediction')\n",
        "plt.xlabel('Time')\n",
        "plt.ylabel('Stock Price')\n",
        "plt.legend()\n",
        "plt.show()"
      ],
      "execution_count": null,
      "outputs": [
        {
          "output_type": "display_data",
          "data": {
            "image/png": "[encoded data removed]",
            "text/plain": [
              "<Figure size 432x288 with 1 Axes>"
            ]
          },
          "metadata": {
            "needs_background": "light"
          }
        }
      ]
    },
    {
      "cell_type": "code",
      "metadata": {
        "id": "IJRRpHfz1fe9"
      },
      "source": [
        ""
      ],
      "execution_count": null,
      "outputs": []
    }
  ]
}